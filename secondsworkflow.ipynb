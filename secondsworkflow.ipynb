{
  "nbformat": 4,
  "nbformat_minor": 0,
  "metadata": {
    "colab": {
      "provenance": []
    },
    "kernelspec": {
      "name": "python3",
      "display_name": "Python 3"
    },
    "language_info": {
      "name": "python"
    }
  },
  "cells": [
    {
      "cell_type": "code",
      "execution_count": 1,
      "metadata": {
        "id": "8b7kTQL_H902"
      },
      "outputs": [],
      "source": [
        "import torch\n",
        "import torch.nn\n",
        "import numpy as np\n",
        "import pandas as pd\n",
        "import matplotlib.pyplot as plt\n"
      ]
    },
    {
      "cell_type": "code",
      "source": [
        "### building a model data\n",
        "\n",
        "weight = 0.7\n",
        "bias = 0.3\n",
        "\n",
        "hello = torch.arange(start=0, end = 1 , step = 0.002).unsqueeze(dim=1)\n",
        "bro = weight*hello+ bias\n",
        "\n",
        "hello[:10],bro[:10]"
      ],
      "metadata": {
        "colab": {
          "base_uri": "https://localhost:8080/"
        },
        "id": "toEw22Q2IH4p",
        "outputId": "b0c50a75-598c-4d7c-9b5f-2ea15a212cbd"
      },
      "execution_count": 18,
      "outputs": [
        {
          "output_type": "execute_result",
          "data": {
            "text/plain": [
              "(tensor([[0.0000],\n",
              "         [0.0020],\n",
              "         [0.0040],\n",
              "         [0.0060],\n",
              "         [0.0080],\n",
              "         [0.0100],\n",
              "         [0.0120],\n",
              "         [0.0140],\n",
              "         [0.0160],\n",
              "         [0.0180]]),\n",
              " tensor([[0.3000],\n",
              "         [0.3014],\n",
              "         [0.3028],\n",
              "         [0.3042],\n",
              "         [0.3056],\n",
              "         [0.3070],\n",
              "         [0.3084],\n",
              "         [0.3098],\n",
              "         [0.3112],\n",
              "         [0.3126]]))"
            ]
          },
          "metadata": {},
          "execution_count": 18
        }
      ]
    },
    {
      "cell_type": "code",
      "source": [
        "len (hello), len (bro)"
      ],
      "metadata": {
        "colab": {
          "base_uri": "https://localhost:8080/"
        },
        "id": "MAuWp0UjJmC3",
        "outputId": "3a78dfb3-bfd2-46ae-e4b4-f4963e3ab718"
      },
      "execution_count": 19,
      "outputs": [
        {
          "output_type": "execute_result",
          "data": {
            "text/plain": [
              "(500, 500)"
            ]
          },
          "metadata": {},
          "execution_count": 19
        }
      ]
    },
    {
      "cell_type": "markdown",
      "source": [
        "### here i would be focusing on splitting the data into train and test sets mate"
      ],
      "metadata": {
        "id": "DcoxqiWCK-Ry"
      }
    },
    {
      "cell_type": "code",
      "source": [
        " ## there are three types of sets\n",
        " ## 1. training set - 60 - 80%\n",
        " ## 2. validation set - not all models have it but mostly 10 %\n",
        " ## 3. test set - 10 - 30%"
      ],
      "metadata": {
        "id": "Vr-tA6hEKVpL"
      },
      "execution_count": 4,
      "outputs": []
    },
    {
      "cell_type": "code",
      "source": [
        "train_split = int(0.8*len(hello))\n",
        "hello_train, bro_train = hello[:train_split],bro[:train_split]\n",
        "hello_test, bro_test = hello[train_split:],bro[train_split:]\n",
        "\n",
        "len(hello_test),len(hello_train),len(bro_test),len(bro_train)"
      ],
      "metadata": {
        "colab": {
          "base_uri": "https://localhost:8080/"
        },
        "id": "7mFZNN1uLUzi",
        "outputId": "756e83bc-9a89-4f00-aeea-9576919d98b9"
      },
      "execution_count": 20,
      "outputs": [
        {
          "output_type": "execute_result",
          "data": {
            "text/plain": [
              "(100, 400, 100, 400)"
            ]
          },
          "metadata": {},
          "execution_count": 20
        }
      ]
    },
    {
      "cell_type": "markdown",
      "source": [
        "alright lets use matplotlib to make it more amusing as a firework less goo"
      ],
      "metadata": {
        "id": "X8NAgjO-N5Oa"
      }
    },
    {
      "cell_type": "code",
      "source": [
        "def graphy(train_data = hello_train,\n",
        "           train_label= bro_train,\n",
        "           test_data = hello_test,\n",
        "           test_label= bro_test,\n",
        "           predictions = None):\n",
        "\n",
        "    plt.figure(figsize=(6,9))\n",
        "\n",
        "    plt.scatter(train_data,train_label,c=\"r\",s=5,label = \"training data\")\n",
        "    plt.scatter(test_data,test_label,c=\"g\",s=5,label=\"testing data\")\n",
        "\n",
        "    if predictions is not None:\n",
        "      plt.scatter(test_data,predictions,c=\"b\",s=10,label=\"predictions\")\n",
        "\n",
        "\n",
        "    plt.legend(prop={\"size\":14})\n",
        "\n",
        "\n",
        "\n"
      ],
      "metadata": {
        "id": "dQ2qJXJSM-0N"
      },
      "execution_count": 21,
      "outputs": []
    },
    {
      "cell_type": "code",
      "source": [
        "graphy()"
      ],
      "metadata": {
        "colab": {
          "base_uri": "https://localhost:8080/",
          "height": 753
        },
        "id": "xJfV-LohQmRc",
        "outputId": "84c33110-665b-442b-990a-becb03e7be40"
      },
      "execution_count": 22,
      "outputs": [
        {
          "output_type": "display_data",
          "data": {
            "text/plain": [
              "<Figure size 600x900 with 1 Axes>"
            ],
            "image/png": "[encoded data removed]"
          },
          "metadata": {}
        }
      ]
    },
    {
      "cell_type": "markdown",
      "source": [
        "###Building model to fit data in the red line"
      ],
      "metadata": {
        "id": "hMFewdBxUNvE"
      }
    },
    {
      "cell_type": "code",
      "source": [
        "from torch import nn\n",
        "\n",
        "\n",
        "class linearregression(nn.Module):\n",
        "  def __init__(self):\n",
        "    super().__init__()\n",
        "    self.weight=nn.Parameter(torch.randn(1,\n",
        "                                         requires_grad=True,\n",
        "                                         dtype=torch.float))\n",
        "    self.bias=nn.Parameter(torch.randn(1,\n",
        "                                       requires_grad=True,\n",
        "                                       dtype=torch.float))\n",
        "\n",
        "  def forward(self,x:torch.Tensor) -> torch.tensor:\n",
        "    return self.weight * hello + self.bias"
      ],
      "metadata": {
        "id": "9B3u4fbEQtrx"
      },
      "execution_count": 23,
      "outputs": []
    },
    {
      "cell_type": "markdown",
      "source": [
        "so we have few building blocks of pytorch that u have to understand\n",
        "\n",
        "1. torch.nn(neural network)\n",
        "2. torch.parameter\n",
        "3. torch.Module\n",
        "4. torch.optim = optimiser\n",
        "5. def forward() - > this means what is gonna happen to stuff in computation"
      ],
      "metadata": {
        "id": "ZkcfhX2gpKBT"
      }
    },
    {
      "cell_type": "code",
      "source": [
        "torch.manual_seed(69)\n",
        "\n",
        "model_bro = linearregression()\n",
        "\n",
        "list(model_bro.parameters())"
      ],
      "metadata": {
        "colab": {
          "base_uri": "https://localhost:8080/"
        },
        "id": "q5Wg0DEIo-Fz",
        "outputId": "7ac0e331-fbc4-45e9-f67e-2b405d1c220b"
      },
      "execution_count": 24,
      "outputs": [
        {
          "output_type": "execute_result",
          "data": {
            "text/plain": [
              "[Parameter containing:\n",
              " tensor([-0.5259], requires_grad=True),\n",
              " Parameter containing:\n",
              " tensor([-2.6043], requires_grad=True)]"
            ]
          },
          "metadata": {},
          "execution_count": 24
        }
      ]
    },
    {
      "cell_type": "code",
      "source": [
        "model_bro.state_dict()"
      ],
      "metadata": {
        "colab": {
          "base_uri": "https://localhost:8080/"
        },
        "id": "T3XJLPSrr763",
        "outputId": "003dd35f-e2e0-4a8d-eb9b-2d71548d2f22"
      },
      "execution_count": 25,
      "outputs": [
        {
          "output_type": "execute_result",
          "data": {
            "text/plain": [
              "OrderedDict([('weight', tensor([-0.5259])), ('bias', tensor([-2.6043]))])"
            ]
          },
          "metadata": {},
          "execution_count": 25
        }
      ]
    },
    {
      "cell_type": "code",
      "source": [
        "### alright so untill here we made some checking as to how the data models is being done\n"
      ],
      "metadata": {
        "id": "P-R0d7hDtFOQ"
      },
      "execution_count": 11,
      "outputs": []
    },
    {
      "cell_type": "markdown",
      "source": [
        "lets do predictions"
      ],
      "metadata": {
        "id": "38ZC58wUtdP7"
      }
    },
    {
      "cell_type": "code",
      "source": [
        "with torch.inference_mode():\n",
        "  y_preds = model_bro(hello_test)\n",
        "\n",
        "\n",
        "y_preds"
      ],
      "metadata": {
        "colab": {
          "base_uri": "https://localhost:8080/"
        },
        "id": "yxbdWsqPtcU_",
        "outputId": "955e9b4c-63cb-41b6-b76e-b5500bc50529"
      },
      "execution_count": 26,
      "outputs": [
        {
          "output_type": "execute_result",
          "data": {
            "text/plain": [
              "tensor([[-2.6043],\n",
              "        [-2.6053],\n",
              "        [-2.6064],\n",
              "        [-2.6074],\n",
              "        [-2.6085],\n",
              "        [-2.6095],\n",
              "        [-2.6106],\n",
              "        [-2.6116],\n",
              "        [-2.6127],\n",
              "        [-2.6137],\n",
              "        [-2.6148],\n",
              "        [-2.6158],\n",
              "        [-2.6169],\n",
              "        [-2.6179],\n",
              "        [-2.6190],\n",
              "        [-2.6200],\n",
              "        [-2.6211],\n",
              "        [-2.6221],\n",
              "        [-2.6232],\n",
              "        [-2.6243],\n",
              "        [-2.6253],\n",
              "        [-2.6264],\n",
              "        [-2.6274],\n",
              "        [-2.6285],\n",
              "        [-2.6295],\n",
              "        [-2.6306],\n",
              "        [-2.6316],\n",
              "        [-2.6327],\n",
              "        [-2.6337],\n",
              "        [-2.6348],\n",
              "        [-2.6358],\n",
              "        [-2.6369],\n",
              "        [-2.6379],\n",
              "        [-2.6390],\n",
              "        [-2.6400],\n",
              "        [-2.6411],\n",
              "        [-2.6421],\n",
              "        [-2.6432],\n",
              "        [-2.6442],\n",
              "        [-2.6453],\n",
              "        [-2.6463],\n",
              "        [-2.6474],\n",
              "        [-2.6484],\n",
              "        [-2.6495],\n",
              "        [-2.6505],\n",
              "        [-2.6516],\n",
              "        [-2.6527],\n",
              "        [-2.6537],\n",
              "        [-2.6548],\n",
              "        [-2.6558],\n",
              "        [-2.6569],\n",
              "        [-2.6579],\n",
              "        [-2.6590],\n",
              "        [-2.6600],\n",
              "        [-2.6611],\n",
              "        [-2.6621],\n",
              "        [-2.6632],\n",
              "        [-2.6642],\n",
              "        [-2.6653],\n",
              "        [-2.6663],\n",
              "        [-2.6674],\n",
              "        [-2.6684],\n",
              "        [-2.6695],\n",
              "        [-2.6705],\n",
              "        [-2.6716],\n",
              "        [-2.6726],\n",
              "        [-2.6737],\n",
              "        [-2.6747],\n",
              "        [-2.6758],\n",
              "        [-2.6768],\n",
              "        [-2.6779],\n",
              "        [-2.6789],\n",
              "        [-2.6800],\n",
              "        [-2.6810],\n",
              "        [-2.6821],\n",
              "        [-2.6832],\n",
              "        [-2.6842],\n",
              "        [-2.6853],\n",
              "        [-2.6863],\n",
              "        [-2.6874],\n",
              "        [-2.6884],\n",
              "        [-2.6895],\n",
              "        [-2.6905],\n",
              "        [-2.6916],\n",
              "        [-2.6926],\n",
              "        [-2.6937],\n",
              "        [-2.6947],\n",
              "        [-2.6958],\n",
              "        [-2.6968],\n",
              "        [-2.6979],\n",
              "        [-2.6989],\n",
              "        [-2.7000],\n",
              "        [-2.7010],\n",
              "        [-2.7021],\n",
              "        [-2.7031],\n",
              "        [-2.7042],\n",
              "        [-2.7052],\n",
              "        [-2.7063],\n",
              "        [-2.7073],\n",
              "        [-2.7084],\n",
              "        [-2.7094],\n",
              "        [-2.7105],\n",
              "        [-2.7116],\n",
              "        [-2.7126],\n",
              "        [-2.7137],\n",
              "        [-2.7147],\n",
              "        [-2.7158],\n",
              "        [-2.7168],\n",
              "        [-2.7179],\n",
              "        [-2.7189],\n",
              "        [-2.7200],\n",
              "        [-2.7210],\n",
              "        [-2.7221],\n",
              "        [-2.7231],\n",
              "        [-2.7242],\n",
              "        [-2.7252],\n",
              "        [-2.7263],\n",
              "        [-2.7273],\n",
              "        [-2.7284],\n",
              "        [-2.7294],\n",
              "        [-2.7305],\n",
              "        [-2.7315],\n",
              "        [-2.7326],\n",
              "        [-2.7336],\n",
              "        [-2.7347],\n",
              "        [-2.7357],\n",
              "        [-2.7368],\n",
              "        [-2.7378],\n",
              "        [-2.7389],\n",
              "        [-2.7399],\n",
              "        [-2.7410],\n",
              "        [-2.7421],\n",
              "        [-2.7431],\n",
              "        [-2.7442],\n",
              "        [-2.7452],\n",
              "        [-2.7463],\n",
              "        [-2.7473],\n",
              "        [-2.7484],\n",
              "        [-2.7494],\n",
              "        [-2.7505],\n",
              "        [-2.7515],\n",
              "        [-2.7526],\n",
              "        [-2.7536],\n",
              "        [-2.7547],\n",
              "        [-2.7557],\n",
              "        [-2.7568],\n",
              "        [-2.7578],\n",
              "        [-2.7589],\n",
              "        [-2.7599],\n",
              "        [-2.7610],\n",
              "        [-2.7620],\n",
              "        [-2.7631],\n",
              "        [-2.7641],\n",
              "        [-2.7652],\n",
              "        [-2.7662],\n",
              "        [-2.7673],\n",
              "        [-2.7683],\n",
              "        [-2.7694],\n",
              "        [-2.7705],\n",
              "        [-2.7715],\n",
              "        [-2.7726],\n",
              "        [-2.7736],\n",
              "        [-2.7747],\n",
              "        [-2.7757],\n",
              "        [-2.7768],\n",
              "        [-2.7778],\n",
              "        [-2.7789],\n",
              "        [-2.7799],\n",
              "        [-2.7810],\n",
              "        [-2.7820],\n",
              "        [-2.7831],\n",
              "        [-2.7841],\n",
              "        [-2.7852],\n",
              "        [-2.7862],\n",
              "        [-2.7873],\n",
              "        [-2.7883],\n",
              "        [-2.7894],\n",
              "        [-2.7904],\n",
              "        [-2.7915],\n",
              "        [-2.7925],\n",
              "        [-2.7936],\n",
              "        [-2.7946],\n",
              "        [-2.7957],\n",
              "        [-2.7967],\n",
              "        [-2.7978],\n",
              "        [-2.7988],\n",
              "        [-2.7999],\n",
              "        [-2.8010],\n",
              "        [-2.8020],\n",
              "        [-2.8031],\n",
              "        [-2.8041],\n",
              "        [-2.8052],\n",
              "        [-2.8062],\n",
              "        [-2.8073],\n",
              "        [-2.8083],\n",
              "        [-2.8094],\n",
              "        [-2.8104],\n",
              "        [-2.8115],\n",
              "        [-2.8125],\n",
              "        [-2.8136],\n",
              "        [-2.8146],\n",
              "        [-2.8157],\n",
              "        [-2.8167],\n",
              "        [-2.8178],\n",
              "        [-2.8188],\n",
              "        [-2.8199],\n",
              "        [-2.8209],\n",
              "        [-2.8220],\n",
              "        [-2.8230],\n",
              "        [-2.8241],\n",
              "        [-2.8251],\n",
              "        [-2.8262],\n",
              "        [-2.8272],\n",
              "        [-2.8283],\n",
              "        [-2.8294],\n",
              "        [-2.8304],\n",
              "        [-2.8315],\n",
              "        [-2.8325],\n",
              "        [-2.8336],\n",
              "        [-2.8346],\n",
              "        [-2.8357],\n",
              "        [-2.8367],\n",
              "        [-2.8378],\n",
              "        [-2.8388],\n",
              "        [-2.8399],\n",
              "        [-2.8409],\n",
              "        [-2.8420],\n",
              "        [-2.8430],\n",
              "        [-2.8441],\n",
              "        [-2.8451],\n",
              "        [-2.8462],\n",
              "        [-2.8472],\n",
              "        [-2.8483],\n",
              "        [-2.8493],\n",
              "        [-2.8504],\n",
              "        [-2.8514],\n",
              "        [-2.8525],\n",
              "        [-2.8535],\n",
              "        [-2.8546],\n",
              "        [-2.8556],\n",
              "        [-2.8567],\n",
              "        [-2.8577],\n",
              "        [-2.8588],\n",
              "        [-2.8599],\n",
              "        [-2.8609],\n",
              "        [-2.8620],\n",
              "        [-2.8630],\n",
              "        [-2.8641],\n",
              "        [-2.8651],\n",
              "        [-2.8662],\n",
              "        [-2.8672],\n",
              "        [-2.8683],\n",
              "        [-2.8693],\n",
              "        [-2.8704],\n",
              "        [-2.8714],\n",
              "        [-2.8725],\n",
              "        [-2.8735],\n",
              "        [-2.8746],\n",
              "        [-2.8756],\n",
              "        [-2.8767],\n",
              "        [-2.8777],\n",
              "        [-2.8788],\n",
              "        [-2.8798],\n",
              "        [-2.8809],\n",
              "        [-2.8819],\n",
              "        [-2.8830],\n",
              "        [-2.8840],\n",
              "        [-2.8851],\n",
              "        [-2.8861],\n",
              "        [-2.8872],\n",
              "        [-2.8882],\n",
              "        [-2.8893],\n",
              "        [-2.8904],\n",
              "        [-2.8914],\n",
              "        [-2.8925],\n",
              "        [-2.8935],\n",
              "        [-2.8946],\n",
              "        [-2.8956],\n",
              "        [-2.8967],\n",
              "        [-2.8977],\n",
              "        [-2.8988],\n",
              "        [-2.8998],\n",
              "        [-2.9009],\n",
              "        [-2.9019],\n",
              "        [-2.9030],\n",
              "        [-2.9040],\n",
              "        [-2.9051],\n",
              "        [-2.9061],\n",
              "        [-2.9072],\n",
              "        [-2.9082],\n",
              "        [-2.9093],\n",
              "        [-2.9103],\n",
              "        [-2.9114],\n",
              "        [-2.9124],\n",
              "        [-2.9135],\n",
              "        [-2.9145],\n",
              "        [-2.9156],\n",
              "        [-2.9166],\n",
              "        [-2.9177],\n",
              "        [-2.9188],\n",
              "        [-2.9198],\n",
              "        [-2.9209],\n",
              "        [-2.9219],\n",
              "        [-2.9230],\n",
              "        [-2.9240],\n",
              "        [-2.9251],\n",
              "        [-2.9261],\n",
              "        [-2.9272],\n",
              "        [-2.9282],\n",
              "        [-2.9293],\n",
              "        [-2.9303],\n",
              "        [-2.9314],\n",
              "        [-2.9324],\n",
              "        [-2.9335],\n",
              "        [-2.9345],\n",
              "        [-2.9356],\n",
              "        [-2.9366],\n",
              "        [-2.9377],\n",
              "        [-2.9387],\n",
              "        [-2.9398],\n",
              "        [-2.9408],\n",
              "        [-2.9419],\n",
              "        [-2.9429],\n",
              "        [-2.9440],\n",
              "        [-2.9450],\n",
              "        [-2.9461],\n",
              "        [-2.9471],\n",
              "        [-2.9482],\n",
              "        [-2.9493],\n",
              "        [-2.9503],\n",
              "        [-2.9514],\n",
              "        [-2.9524],\n",
              "        [-2.9535],\n",
              "        [-2.9545],\n",
              "        [-2.9556],\n",
              "        [-2.9566],\n",
              "        [-2.9577],\n",
              "        [-2.9587],\n",
              "        [-2.9598],\n",
              "        [-2.9608],\n",
              "        [-2.9619],\n",
              "        [-2.9629],\n",
              "        [-2.9640],\n",
              "        [-2.9650],\n",
              "        [-2.9661],\n",
              "        [-2.9671],\n",
              "        [-2.9682],\n",
              "        [-2.9692],\n",
              "        [-2.9703],\n",
              "        [-2.9713],\n",
              "        [-2.9724],\n",
              "        [-2.9734],\n",
              "        [-2.9745],\n",
              "        [-2.9755],\n",
              "        [-2.9766],\n",
              "        [-2.9777],\n",
              "        [-2.9787],\n",
              "        [-2.9798],\n",
              "        [-2.9808],\n",
              "        [-2.9819],\n",
              "        [-2.9829],\n",
              "        [-2.9840],\n",
              "        [-2.9850],\n",
              "        [-2.9861],\n",
              "        [-2.9871],\n",
              "        [-2.9882],\n",
              "        [-2.9892],\n",
              "        [-2.9903],\n",
              "        [-2.9913],\n",
              "        [-2.9924],\n",
              "        [-2.9934],\n",
              "        [-2.9945],\n",
              "        [-2.9955],\n",
              "        [-2.9966],\n",
              "        [-2.9976],\n",
              "        [-2.9987],\n",
              "        [-2.9997],\n",
              "        [-3.0008],\n",
              "        [-3.0018],\n",
              "        [-3.0029],\n",
              "        [-3.0039],\n",
              "        [-3.0050],\n",
              "        [-3.0060],\n",
              "        [-3.0071],\n",
              "        [-3.0082],\n",
              "        [-3.0092],\n",
              "        [-3.0103],\n",
              "        [-3.0113],\n",
              "        [-3.0124],\n",
              "        [-3.0134],\n",
              "        [-3.0145],\n",
              "        [-3.0155],\n",
              "        [-3.0166],\n",
              "        [-3.0176],\n",
              "        [-3.0187],\n",
              "        [-3.0197],\n",
              "        [-3.0208],\n",
              "        [-3.0218],\n",
              "        [-3.0229],\n",
              "        [-3.0239],\n",
              "        [-3.0250],\n",
              "        [-3.0260],\n",
              "        [-3.0271],\n",
              "        [-3.0281],\n",
              "        [-3.0292],\n",
              "        [-3.0302],\n",
              "        [-3.0313],\n",
              "        [-3.0323],\n",
              "        [-3.0334],\n",
              "        [-3.0344],\n",
              "        [-3.0355],\n",
              "        [-3.0366],\n",
              "        [-3.0376],\n",
              "        [-3.0387],\n",
              "        [-3.0397],\n",
              "        [-3.0408],\n",
              "        [-3.0418],\n",
              "        [-3.0429],\n",
              "        [-3.0439],\n",
              "        [-3.0450],\n",
              "        [-3.0460],\n",
              "        [-3.0471],\n",
              "        [-3.0481],\n",
              "        [-3.0492],\n",
              "        [-3.0502],\n",
              "        [-3.0513],\n",
              "        [-3.0523],\n",
              "        [-3.0534],\n",
              "        [-3.0544],\n",
              "        [-3.0555],\n",
              "        [-3.0565],\n",
              "        [-3.0576],\n",
              "        [-3.0586],\n",
              "        [-3.0597],\n",
              "        [-3.0607],\n",
              "        [-3.0618],\n",
              "        [-3.0628],\n",
              "        [-3.0639],\n",
              "        [-3.0649],\n",
              "        [-3.0660],\n",
              "        [-3.0671],\n",
              "        [-3.0681],\n",
              "        [-3.0692],\n",
              "        [-3.0702],\n",
              "        [-3.0713],\n",
              "        [-3.0723],\n",
              "        [-3.0734],\n",
              "        [-3.0744],\n",
              "        [-3.0755],\n",
              "        [-3.0765],\n",
              "        [-3.0776],\n",
              "        [-3.0786],\n",
              "        [-3.0797],\n",
              "        [-3.0807],\n",
              "        [-3.0818],\n",
              "        [-3.0828],\n",
              "        [-3.0839],\n",
              "        [-3.0849],\n",
              "        [-3.0860],\n",
              "        [-3.0870],\n",
              "        [-3.0881],\n",
              "        [-3.0891],\n",
              "        [-3.0902],\n",
              "        [-3.0912],\n",
              "        [-3.0923],\n",
              "        [-3.0933],\n",
              "        [-3.0944],\n",
              "        [-3.0955],\n",
              "        [-3.0965],\n",
              "        [-3.0976],\n",
              "        [-3.0986],\n",
              "        [-3.0997],\n",
              "        [-3.1007],\n",
              "        [-3.1018],\n",
              "        [-3.1028],\n",
              "        [-3.1039],\n",
              "        [-3.1049],\n",
              "        [-3.1060],\n",
              "        [-3.1070],\n",
              "        [-3.1081],\n",
              "        [-3.1091],\n",
              "        [-3.1102],\n",
              "        [-3.1112],\n",
              "        [-3.1123],\n",
              "        [-3.1133],\n",
              "        [-3.1144],\n",
              "        [-3.1154],\n",
              "        [-3.1165],\n",
              "        [-3.1175],\n",
              "        [-3.1186],\n",
              "        [-3.1196],\n",
              "        [-3.1207],\n",
              "        [-3.1217],\n",
              "        [-3.1228],\n",
              "        [-3.1238],\n",
              "        [-3.1249],\n",
              "        [-3.1260],\n",
              "        [-3.1270],\n",
              "        [-3.1281],\n",
              "        [-3.1291]])"
            ]
          },
          "metadata": {},
          "execution_count": 26
        }
      ]
    },
    {
      "cell_type": "markdown",
      "source": [
        "Training the ml model apparently sizes are same but not same"
      ],
      "metadata": {
        "id": "VpnkQ4gX57ts"
      }
    },
    {
      "cell_type": "code",
      "source": [
        "list (model_bro.parameters())"
      ],
      "metadata": {
        "colab": {
          "base_uri": "https://localhost:8080/"
        },
        "id": "UUU4JxFjwTO0",
        "outputId": "9e65a4fe-5a08-4fdb-8ff4-37bb4605a2a6"
      },
      "execution_count": 14,
      "outputs": [
        {
          "output_type": "execute_result",
          "data": {
            "text/plain": [
              "[Parameter containing:\n",
              " tensor([-0.5259], requires_grad=True),\n",
              " Parameter containing:\n",
              " tensor([-2.6043], requires_grad=True)]"
            ]
          },
          "metadata": {},
          "execution_count": 14
        }
      ]
    },
    {
      "cell_type": "code",
      "source": [
        "#######loss function and optimiser being set up less go"
      ],
      "metadata": {
        "id": "S_RWakY967RS"
      },
      "execution_count": 15,
      "outputs": []
    },
    {
      "cell_type": "markdown",
      "source": [
        "loss function and optimiser come in both pair in pytorch"
      ],
      "metadata": {
        "id": "rvmWJrS18P0D"
      }
    },
    {
      "cell_type": "code",
      "source": [
        "lossy =nn.L1Loss()\n",
        "\n",
        "optimo = torch.optim.SGD(params=model_bro.parameters(),\n",
        "                         lr=0.0)# lr  is learning rate"
      ],
      "metadata": {
        "id": "_E6l8rQL8BHZ"
      },
      "execution_count": 32,
      "outputs": []
    },
    {
      "cell_type": "code",
      "source": [
        " ### building a loop in pytorch"
      ],
      "metadata": {
        "id": "GRBZeXHF9YPy"
      },
      "execution_count": 29,
      "outputs": []
    },
    {
      "cell_type": "code",
      "source": [
        "torch.manual_seed(69)\n",
        "\n",
        "epochs =1\n",
        "\n",
        "\n",
        "train_loss_values = []\n",
        "test_loss_values = []\n",
        "epoch_count=[]\n",
        "\n",
        "for epoch in range(epochs):\n",
        "  model_bro.train()\n",
        "\n",
        "  ## forward pass\n",
        "\n",
        "  y_pred = model_bro(hello_train)\n",
        "\n",
        "  ## we be calculating the loss\n",
        "  losst = lossy(y_pred,bro_train)\n",
        "\n",
        "  optimo.zero_grad()\n",
        "\n",
        "  losst.backward()\n",
        "\n",
        "  optimo.step()\n",
        "\n",
        "\n",
        " ### testing\n",
        "  model_bro.eval()\n",
        " ## forward pass\n",
        "  # with torch.inference_mode():\n",
        "  #   test_pred = model_bro(hello_test)\n",
        "\n",
        "  #   test_loss = lossy(test_pred,bro_test)\n",
        "\n",
        "  #   if epoch % 10 == 0:\n",
        "  #     epoch_count.append(epoch)\n",
        "  #     train_loss_values.append(lossy.detach().numpy())\n",
        "  #     test_loss_values.append(test_loss.detach().numpy())\n",
        "  #     print(f\"epoch : {epoch}| Mean absolute loss : {loss}|mae test loss : {test_loss}\")"
      ],
      "metadata": {
        "colab": {
          "base_uri": "https://localhost:8080/",
          "height": 445
        },
        "id": "yPYmEwSo-kNX",
        "outputId": "b2d73ece-4abc-419e-e841-3ee2d1d14969"
      },
      "execution_count": 37,
      "outputs": [
        {
          "output_type": "stream",
          "name": "stderr",
          "text": [
            "/usr/local/lib/python3.10/dist-packages/torch/nn/modules/loss.py:101: UserWarning: Using a target size (torch.Size([400, 1])) that is different to the input size (torch.Size([500, 1])). This will likely lead to incorrect results due to broadcasting. Please ensure they have the same size.\n",
            "  return F.l1_loss(input, target, reduction=self.reduction)\n"
          ]
        },
        {
          "output_type": "error",
          "ename": "RuntimeError",
          "evalue": "The size of tensor a (500) must match the size of tensor b (400) at non-singleton dimension 0",
          "traceback": [
            "\u001b[0;31m---------------------------------------------------------------------------\u001b[0m",
            "\u001b[0;31mRuntimeError\u001b[0m                              Traceback (most recent call last)",
            "\u001b[0;32m<ipython-input-37-35179b9fa036>\u001b[0m in \u001b[0;36m<cell line: 10>\u001b[0;34m()\u001b[0m\n\u001b[1;32m     16\u001b[0m \u001b[0;34m\u001b[0m\u001b[0m\n\u001b[1;32m     17\u001b[0m   \u001b[0;31m## we be calculating the loss\u001b[0m\u001b[0;34m\u001b[0m\u001b[0;34m\u001b[0m\u001b[0m\n\u001b[0;32m---> 18\u001b[0;31m   \u001b[0mlosst\u001b[0m \u001b[0;34m=\u001b[0m \u001b[0mlossy\u001b[0m\u001b[0;34m(\u001b[0m\u001b[0my_pred\u001b[0m\u001b[0;34m,\u001b[0m\u001b[0mbro_train\u001b[0m\u001b[0;34m)\u001b[0m\u001b[0;34m\u001b[0m\u001b[0;34m\u001b[0m\u001b[0m\n\u001b[0m\u001b[1;32m     19\u001b[0m \u001b[0;34m\u001b[0m\u001b[0m\n\u001b[1;32m     20\u001b[0m   \u001b[0moptimo\u001b[0m\u001b[0;34m.\u001b[0m\u001b[0mzero_grad\u001b[0m\u001b[0;34m(\u001b[0m\u001b[0;34m)\u001b[0m\u001b[0;34m\u001b[0m\u001b[0;34m\u001b[0m\u001b[0m\n",
            "\u001b[0;32m/usr/local/lib/python3.10/dist-packages/torch/nn/modules/module.py\u001b[0m in \u001b[0;36m_wrapped_call_impl\u001b[0;34m(self, *args, **kwargs)\u001b[0m\n\u001b[1;32m   1516\u001b[0m             \u001b[0;32mreturn\u001b[0m \u001b[0mself\u001b[0m\u001b[0;34m.\u001b[0m\u001b[0m_compiled_call_impl\u001b[0m\u001b[0;34m(\u001b[0m\u001b[0;34m*\u001b[0m\u001b[0margs\u001b[0m\u001b[0;34m,\u001b[0m \u001b[0;34m**\u001b[0m\u001b[0mkwargs\u001b[0m\u001b[0;34m)\u001b[0m  \u001b[0;31m# type: ignore[misc]\u001b[0m\u001b[0;34m\u001b[0m\u001b[0;34m\u001b[0m\u001b[0m\n\u001b[1;32m   1517\u001b[0m         \u001b[0;32melse\u001b[0m\u001b[0;34m:\u001b[0m\u001b[0;34m\u001b[0m\u001b[0;34m\u001b[0m\u001b[0m\n\u001b[0;32m-> 1518\u001b[0;31m             \u001b[0;32mreturn\u001b[0m \u001b[0mself\u001b[0m\u001b[0;34m.\u001b[0m\u001b[0m_call_impl\u001b[0m\u001b[0;34m(\u001b[0m\u001b[0;34m*\u001b[0m\u001b[0margs\u001b[0m\u001b[0;34m,\u001b[0m \u001b[0;34m**\u001b[0m\u001b[0mkwargs\u001b[0m\u001b[0;34m)\u001b[0m\u001b[0;34m\u001b[0m\u001b[0;34m\u001b[0m\u001b[0m\n\u001b[0m\u001b[1;32m   1519\u001b[0m \u001b[0;34m\u001b[0m\u001b[0m\n\u001b[1;32m   1520\u001b[0m     \u001b[0;32mdef\u001b[0m \u001b[0m_call_impl\u001b[0m\u001b[0;34m(\u001b[0m\u001b[0mself\u001b[0m\u001b[0;34m,\u001b[0m \u001b[0;34m*\u001b[0m\u001b[0margs\u001b[0m\u001b[0;34m,\u001b[0m \u001b[0;34m**\u001b[0m\u001b[0mkwargs\u001b[0m\u001b[0;34m)\u001b[0m\u001b[0;34m:\u001b[0m\u001b[0;34m\u001b[0m\u001b[0;34m\u001b[0m\u001b[0m\n",
            "\u001b[0;32m/usr/local/lib/python3.10/dist-packages/torch/nn/modules/module.py\u001b[0m in \u001b[0;36m_call_impl\u001b[0;34m(self, *args, **kwargs)\u001b[0m\n\u001b[1;32m   1525\u001b[0m                 \u001b[0;32mor\u001b[0m \u001b[0m_global_backward_pre_hooks\u001b[0m \u001b[0;32mor\u001b[0m \u001b[0m_global_backward_hooks\u001b[0m\u001b[0;34m\u001b[0m\u001b[0;34m\u001b[0m\u001b[0m\n\u001b[1;32m   1526\u001b[0m                 or _global_forward_hooks or _global_forward_pre_hooks):\n\u001b[0;32m-> 1527\u001b[0;31m             \u001b[0;32mreturn\u001b[0m \u001b[0mforward_call\u001b[0m\u001b[0;34m(\u001b[0m\u001b[0;34m*\u001b[0m\u001b[0margs\u001b[0m\u001b[0;34m,\u001b[0m \u001b[0;34m**\u001b[0m\u001b[0mkwargs\u001b[0m\u001b[0;34m)\u001b[0m\u001b[0;34m\u001b[0m\u001b[0;34m\u001b[0m\u001b[0m\n\u001b[0m\u001b[1;32m   1528\u001b[0m \u001b[0;34m\u001b[0m\u001b[0m\n\u001b[1;32m   1529\u001b[0m         \u001b[0;32mtry\u001b[0m\u001b[0;34m:\u001b[0m\u001b[0;34m\u001b[0m\u001b[0;34m\u001b[0m\u001b[0m\n",
            "\u001b[0;32m/usr/local/lib/python3.10/dist-packages/torch/nn/modules/loss.py\u001b[0m in \u001b[0;36mforward\u001b[0;34m(self, input, target)\u001b[0m\n\u001b[1;32m     99\u001b[0m \u001b[0;34m\u001b[0m\u001b[0m\n\u001b[1;32m    100\u001b[0m     \u001b[0;32mdef\u001b[0m \u001b[0mforward\u001b[0m\u001b[0;34m(\u001b[0m\u001b[0mself\u001b[0m\u001b[0;34m,\u001b[0m \u001b[0minput\u001b[0m\u001b[0;34m:\u001b[0m \u001b[0mTensor\u001b[0m\u001b[0;34m,\u001b[0m \u001b[0mtarget\u001b[0m\u001b[0;34m:\u001b[0m \u001b[0mTensor\u001b[0m\u001b[0;34m)\u001b[0m \u001b[0;34m->\u001b[0m \u001b[0mTensor\u001b[0m\u001b[0;34m:\u001b[0m\u001b[0;34m\u001b[0m\u001b[0;34m\u001b[0m\u001b[0m\n\u001b[0;32m--> 101\u001b[0;31m         \u001b[0;32mreturn\u001b[0m \u001b[0mF\u001b[0m\u001b[0;34m.\u001b[0m\u001b[0ml1_loss\u001b[0m\u001b[0;34m(\u001b[0m\u001b[0minput\u001b[0m\u001b[0;34m,\u001b[0m \u001b[0mtarget\u001b[0m\u001b[0;34m,\u001b[0m \u001b[0mreduction\u001b[0m\u001b[0;34m=\u001b[0m\u001b[0mself\u001b[0m\u001b[0;34m.\u001b[0m\u001b[0mreduction\u001b[0m\u001b[0;34m)\u001b[0m\u001b[0;34m\u001b[0m\u001b[0;34m\u001b[0m\u001b[0m\n\u001b[0m\u001b[1;32m    102\u001b[0m \u001b[0;34m\u001b[0m\u001b[0m\n\u001b[1;32m    103\u001b[0m \u001b[0;34m\u001b[0m\u001b[0m\n",
            "\u001b[0;32m/usr/local/lib/python3.10/dist-packages/torch/nn/functional.py\u001b[0m in \u001b[0;36ml1_loss\u001b[0;34m(input, target, size_average, reduce, reduction)\u001b[0m\n\u001b[1;32m   3295\u001b[0m         \u001b[0mreduction\u001b[0m \u001b[0;34m=\u001b[0m \u001b[0m_Reduction\u001b[0m\u001b[0;34m.\u001b[0m\u001b[0mlegacy_get_string\u001b[0m\u001b[0;34m(\u001b[0m\u001b[0msize_average\u001b[0m\u001b[0;34m,\u001b[0m \u001b[0mreduce\u001b[0m\u001b[0;34m)\u001b[0m\u001b[0;34m\u001b[0m\u001b[0;34m\u001b[0m\u001b[0m\n\u001b[1;32m   3296\u001b[0m \u001b[0;34m\u001b[0m\u001b[0m\n\u001b[0;32m-> 3297\u001b[0;31m     \u001b[0mexpanded_input\u001b[0m\u001b[0;34m,\u001b[0m \u001b[0mexpanded_target\u001b[0m \u001b[0;34m=\u001b[0m \u001b[0mtorch\u001b[0m\u001b[0;34m.\u001b[0m\u001b[0mbroadcast_tensors\u001b[0m\u001b[0;34m(\u001b[0m\u001b[0minput\u001b[0m\u001b[0;34m,\u001b[0m \u001b[0mtarget\u001b[0m\u001b[0;34m)\u001b[0m\u001b[0;34m\u001b[0m\u001b[0;34m\u001b[0m\u001b[0m\n\u001b[0m\u001b[1;32m   3298\u001b[0m     \u001b[0;32mreturn\u001b[0m \u001b[0mtorch\u001b[0m\u001b[0;34m.\u001b[0m\u001b[0m_C\u001b[0m\u001b[0;34m.\u001b[0m\u001b[0m_nn\u001b[0m\u001b[0;34m.\u001b[0m\u001b[0ml1_loss\u001b[0m\u001b[0;34m(\u001b[0m\u001b[0mexpanded_input\u001b[0m\u001b[0;34m,\u001b[0m \u001b[0mexpanded_target\u001b[0m\u001b[0;34m,\u001b[0m \u001b[0m_Reduction\u001b[0m\u001b[0;34m.\u001b[0m\u001b[0mget_enum\u001b[0m\u001b[0;34m(\u001b[0m\u001b[0mreduction\u001b[0m\u001b[0;34m)\u001b[0m\u001b[0;34m)\u001b[0m\u001b[0;34m\u001b[0m\u001b[0;34m\u001b[0m\u001b[0m\n\u001b[1;32m   3299\u001b[0m \u001b[0;34m\u001b[0m\u001b[0m\n",
            "\u001b[0;32m/usr/local/lib/python3.10/dist-packages/torch/functional.py\u001b[0m in \u001b[0;36mbroadcast_tensors\u001b[0;34m(*tensors)\u001b[0m\n\u001b[1;32m     71\u001b[0m     \u001b[0;32mif\u001b[0m \u001b[0mhas_torch_function\u001b[0m\u001b[0;34m(\u001b[0m\u001b[0mtensors\u001b[0m\u001b[0;34m)\u001b[0m\u001b[0;34m:\u001b[0m\u001b[0;34m\u001b[0m\u001b[0;34m\u001b[0m\u001b[0m\n\u001b[1;32m     72\u001b[0m         \u001b[0;32mreturn\u001b[0m \u001b[0mhandle_torch_function\u001b[0m\u001b[0;34m(\u001b[0m\u001b[0mbroadcast_tensors\u001b[0m\u001b[0;34m,\u001b[0m \u001b[0mtensors\u001b[0m\u001b[0;34m,\u001b[0m \u001b[0;34m*\u001b[0m\u001b[0mtensors\u001b[0m\u001b[0;34m)\u001b[0m\u001b[0;34m\u001b[0m\u001b[0;34m\u001b[0m\u001b[0m\n\u001b[0;32m---> 73\u001b[0;31m     \u001b[0;32mreturn\u001b[0m \u001b[0m_VF\u001b[0m\u001b[0;34m.\u001b[0m\u001b[0mbroadcast_tensors\u001b[0m\u001b[0;34m(\u001b[0m\u001b[0mtensors\u001b[0m\u001b[0;34m)\u001b[0m  \u001b[0;31m# type: ignore[attr-defined]\u001b[0m\u001b[0;34m\u001b[0m\u001b[0;34m\u001b[0m\u001b[0m\n\u001b[0m\u001b[1;32m     74\u001b[0m \u001b[0;34m\u001b[0m\u001b[0m\n\u001b[1;32m     75\u001b[0m \u001b[0;34m\u001b[0m\u001b[0m\n",
            "\u001b[0;31mRuntimeError\u001b[0m: The size of tensor a (500) must match the size of tensor b (400) at non-singleton dimension 0"
          ]
        }
      ]
    },
    {
      "cell_type": "code",
      "source": [],
      "metadata": {
        "id": "90OAaLTgqS81"
      },
      "execution_count": null,
      "outputs": []
    }
  ]
}