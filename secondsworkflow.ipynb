{
  "nbformat": 4,
  "nbformat_minor": 0,
  "metadata": {
    "colab": {
      "provenance": []
    },
    "kernelspec": {
      "name": "python3",
      "display_name": "Python 3"
    },
    "language_info": {
      "name": "python"
    }
  },
  "cells": [
    {
      "cell_type": "code",
      "execution_count": 1,
      "metadata": {
        "id": "8b7kTQL_H902"
      },
      "outputs": [],
      "source": [
        "import torch\n",
        "import torch.nn\n",
        "import numpy as np\n",
        "import pandas as pd\n",
        "import matplotlib.pyplot as plt\n"
      ]
    },
    {
      "cell_type": "code",
      "source": [
        "### building a model data\n",
        "\n",
        "weight = 0.10\n",
        "bias = 0.3\n",
        "\n",
        "hello = torch.arange(start=1, end = 10 , step = 0.001).unsqueeze(dim=1)\n",
        "bro = torch.arange(start = 1, end = 10, step = 0.001).unsqueeze(dim=1)\n",
        "\n",
        "hello[:10],bro[:10]"
      ],
      "metadata": {
        "colab": {
          "base_uri": "https://localhost:8080/"
        },
        "id": "toEw22Q2IH4p",
        "outputId": "20461147-7a80-40e8-eb23-1a44f11146c1"
      },
      "execution_count": 5,
      "outputs": [
        {
          "output_type": "execute_result",
          "data": {
            "text/plain": [
              "(tensor([[1.0000],\n",
              "         [1.0010],\n",
              "         [1.0020],\n",
              "         [1.0030],\n",
              "         [1.0040],\n",
              "         [1.0050],\n",
              "         [1.0060],\n",
              "         [1.0070],\n",
              "         [1.0080],\n",
              "         [1.0090]]),\n",
              " tensor([[1.0000],\n",
              "         [1.0010],\n",
              "         [1.0020],\n",
              "         [1.0030],\n",
              "         [1.0040],\n",
              "         [1.0050],\n",
              "         [1.0060],\n",
              "         [1.0070],\n",
              "         [1.0080],\n",
              "         [1.0090]]))"
            ]
          },
          "metadata": {},
          "execution_count": 5
        }
      ]
    },
    {
      "cell_type": "code",
      "source": [
        "len (hello), len (bro)"
      ],
      "metadata": {
        "colab": {
          "base_uri": "https://localhost:8080/"
        },
        "id": "MAuWp0UjJmC3",
        "outputId": "4237f8e1-3ab9-42e3-dddd-c168ece4dd10"
      },
      "execution_count": 6,
      "outputs": [
        {
          "output_type": "execute_result",
          "data": {
            "text/plain": [
              "(9000, 9000)"
            ]
          },
          "metadata": {},
          "execution_count": 6
        }
      ]
    },
    {
      "cell_type": "markdown",
      "source": [
        "### here i would be focusing on splitting the data into train and test sets mate"
      ],
      "metadata": {
        "id": "DcoxqiWCK-Ry"
      }
    },
    {
      "cell_type": "code",
      "source": [
        " ## there are three types of sets\n",
        " ## 1. training set - 60 - 80%\n",
        " ## 2. validation set - not all models have it but mostly 10 %\n",
        " ## 3. test set - 10 - 30%"
      ],
      "metadata": {
        "id": "Vr-tA6hEKVpL"
      },
      "execution_count": 7,
      "outputs": []
    },
    {
      "cell_type": "code",
      "source": [
        "train_split = int(0.8*len(hello))\n",
        "hello_train, bro_train = hello[:train_split],bro[:train_split]\n",
        "hello_test, bro_test = hello[train_split:],bro[train_split:]\n",
        "\n",
        "len(hello_test),len(hello_train),len(bro_test),len(bro_train)"
      ],
      "metadata": {
        "colab": {
          "base_uri": "https://localhost:8080/"
        },
        "id": "7mFZNN1uLUzi",
        "outputId": "db4d0991-92cc-4871-c83c-2aec1302f923"
      },
      "execution_count": 9,
      "outputs": [
        {
          "output_type": "execute_result",
          "data": {
            "text/plain": [
              "(1800, 7200, 1800, 7200)"
            ]
          },
          "metadata": {},
          "execution_count": 9
        }
      ]
    },
    {
      "cell_type": "markdown",
      "source": [
        "alright lets use matplotlib to make it more amusing as a firework less goo"
      ],
      "metadata": {
        "id": "X8NAgjO-N5Oa"
      }
    },
    {
      "cell_type": "code",
      "source": [
        "def graphy(train_data = hello_train,\n",
        "           train_label= bro_train,\n",
        "           test_data = hello_test,\n",
        "           test_label= bro_test,\n",
        "           predictions = None):\n",
        "\n",
        "    plt.figure(figsize=(6,9))\n",
        "\n",
        "    plt.scatter(train_data,train_label,c=\"r\",s=4,label = \"training data\")\n",
        "    plt.scatter(test_data,test_label,c=\"g\",s=4,label=\"testing data\")\n",
        "\n",
        "    if predictions is not None:\n",
        "      plt.scatter(test_data,predictions,c=\"b\",s=4,label=\"predictions\")\n",
        "\n",
        "\n",
        "    plt.legend(prop={\"size\":14})\n",
        "\n",
        "\n",
        "\n"
      ],
      "metadata": {
        "id": "dQ2qJXJSM-0N"
      },
      "execution_count": 11,
      "outputs": []
    },
    {
      "cell_type": "code",
      "source": [
        "graphy()"
      ],
      "metadata": {
        "colab": {
          "base_uri": "https://localhost:8080/",
          "height": 753
        },
        "id": "xJfV-LohQmRc",
        "outputId": "617999b8-d21b-4ac9-e882-723df3b9546f"
      },
      "execution_count": 12,
      "outputs": [
        {
          "output_type": "display_data",
          "data": {
            "text/plain": [
              "<Figure size 600x900 with 1 Axes>"
            ],
            "image/png": "[encoded data removed]"
          },
          "metadata": {}
        }
      ]
    },
    {
      "cell_type": "code",
      "source": [],
      "metadata": {
        "id": "9B3u4fbEQtrx"
      },
      "execution_count": null,
      "outputs": []
    }
  ]
}