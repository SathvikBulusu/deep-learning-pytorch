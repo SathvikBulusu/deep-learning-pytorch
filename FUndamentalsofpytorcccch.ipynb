{
  "nbformat": 4,
  "nbformat_minor": 0,
  "metadata": {
    "colab": {
      "provenance": []
    },
    "kernelspec": {
      "name": "python3",
      "display_name": "Python 3"
    },
    "language_info": {
      "name": "python"
    }
  },
  "cells": [
    {
      "cell_type": "code",
      "execution_count": 1,
      "metadata": {
        "id": "WdXkTDn5pgdk"
      },
      "outputs": [],
      "source": [
        "### Tensor operations mate"
      ]
    },
    {
      "cell_type": "code",
      "source": [
        "import torch\n",
        "import pandas as pd\n",
        "import matplotlib.pyplot as plt\n",
        "import numpy as np"
      ],
      "metadata": {
        "id": "Qnws7so4qE5u"
      },
      "execution_count": 2,
      "outputs": []
    },
    {
      "cell_type": "code",
      "source": [
        "zoro = torch.tensor([4,5,6,6])"
      ],
      "metadata": {
        "id": "Flv0E4wfqV1C"
      },
      "execution_count": 3,
      "outputs": []
    },
    {
      "cell_type": "code",
      "source": [
        "zoro + 10"
      ],
      "metadata": {
        "colab": {
          "base_uri": "https://localhost:8080/"
        },
        "id": "EHxoqtunqbbb",
        "outputId": "402902c0-39a5-49dd-e9cb-b895adf00b09"
      },
      "execution_count": 4,
      "outputs": [
        {
          "output_type": "execute_result",
          "data": {
            "text/plain": [
              "tensor([14, 15, 16, 16])"
            ]
          },
          "metadata": {},
          "execution_count": 4
        }
      ]
    },
    {
      "cell_type": "code",
      "source": [
        "zoro + 10 - 10 *22 %3 *700\n"
      ],
      "metadata": {
        "colab": {
          "base_uri": "https://localhost:8080/"
        },
        "id": "AAmCfExeqcvj",
        "outputId": "92344f17-9cba-4d9d-9c9f-4a8492499f9b"
      },
      "execution_count": 5,
      "outputs": [
        {
          "output_type": "execute_result",
          "data": {
            "text/plain": [
              "tensor([-686, -685, -684, -684])"
            ]
          },
          "metadata": {},
          "execution_count": 5
        }
      ]
    },
    {
      "cell_type": "code",
      "source": [
        "## the basic arthemetics is again completed so lets do the matrix multiplication"
      ],
      "metadata": {
        "id": "aFXtY4VvqkAr"
      },
      "execution_count": 6,
      "outputs": []
    },
    {
      "cell_type": "code",
      "source": [
        "hero = torch.tensor([8,8,6,5])"
      ],
      "metadata": {
        "id": "tCtM0Kkyq0GR"
      },
      "execution_count": 7,
      "outputs": []
    },
    {
      "cell_type": "markdown",
      "source": [
        "### Given below is the matrix multiplication that can be done and achieved through different ways"
      ],
      "metadata": {
        "id": "ItWyhTwusGAO"
      }
    },
    {
      "cell_type": "code",
      "source": [
        "zoro * hero"
      ],
      "metadata": {
        "colab": {
          "base_uri": "https://localhost:8080/"
        },
        "id": "s8szXjovq4ux",
        "outputId": "ecb15371-64cb-4862-8a75-738e1f8906cc"
      },
      "execution_count": 8,
      "outputs": [
        {
          "output_type": "execute_result",
          "data": {
            "text/plain": [
              "tensor([32, 40, 36, 30])"
            ]
          },
          "metadata": {},
          "execution_count": 8
        }
      ]
    },
    {
      "cell_type": "code",
      "source": [
        "zoro.matmul(hero)"
      ],
      "metadata": {
        "colab": {
          "base_uri": "https://localhost:8080/"
        },
        "id": "lupwCDuJq6rR",
        "outputId": "80644742-04b8-4815-b941-115cf132e461"
      },
      "execution_count": 9,
      "outputs": [
        {
          "output_type": "execute_result",
          "data": {
            "text/plain": [
              "tensor(138)"
            ]
          },
          "metadata": {},
          "execution_count": 9
        }
      ]
    },
    {
      "cell_type": "markdown",
      "source": [
        "shape errors are somethiing that happens a lot in deep learning so keep that mind\n",
        "\n",
        "and the resulting matrix always matches the shape of outer dimensioin"
      ],
      "metadata": {
        "id": "Tc2lzWlxtQED"
      }
    },
    {
      "cell_type": "code",
      "source": [
        "## the inner dimensions must match like (3,4) and (4,9) will work but the other one wont"
      ],
      "metadata": {
        "id": "Ls1ciq-ysQHS"
      },
      "execution_count": 11,
      "outputs": []
    },
    {
      "cell_type": "code",
      "source": [
        "z= torch.rand([4,9])\n",
        "y = torch.rand([9,5])\n",
        "\n",
        "z.matmul(y)"
      ],
      "metadata": {
        "colab": {
          "base_uri": "https://localhost:8080/"
        },
        "id": "YBzy91YTtsnC",
        "outputId": "ca41fede-66bd-4117-9b29-92f1255fe554"
      },
      "execution_count": 15,
      "outputs": [
        {
          "output_type": "execute_result",
          "data": {
            "text/plain": [
              "tensor([[1.3478, 1.7532, 1.3188, 1.7805, 0.8887],\n",
              "        [2.2433, 2.4964, 1.9252, 2.4949, 1.8106],\n",
              "        [2.0254, 1.7652, 1.6631, 2.0038, 1.5691],\n",
              "        [1.2758, 1.5201, 1.0837, 1.5451, 1.2225]])"
            ]
          },
          "metadata": {},
          "execution_count": 15
        }
      ]
    },
    {
      "cell_type": "markdown",
      "source": [
        "###shape errors are common in neural networks so keeping that aside shape errors are caused when dimensions dont match."
      ],
      "metadata": {
        "id": "edmJTRC7uvOq"
      }
    },
    {
      "cell_type": "code",
      "source": [
        "ragna = torch.tensor([[4,5,6],\n",
        "                     [7,6,5],\n",
        "                     [8,9,6]])\n",
        "\n",
        "crimson = torch.tensor([[1,2,3],\n",
        "                       [3,4,5],\n",
        "                       [6,5,7]])\n",
        "\n",
        "ragna*crimson"
      ],
      "metadata": {
        "colab": {
          "base_uri": "https://localhost:8080/"
        },
        "id": "02AbxVD9uIBh",
        "outputId": "f6cf7db1-7511-4e83-9d91-19eff03d4571"
      },
      "execution_count": 17,
      "outputs": [
        {
          "output_type": "execute_result",
          "data": {
            "text/plain": [
              "tensor([[ 4, 10, 18],\n",
              "        [21, 24, 25],\n",
              "        [48, 45, 42]])"
            ]
          },
          "metadata": {},
          "execution_count": 17
        }
      ]
    },
    {
      "cell_type": "code",
      "source": [
        "ragna.mm(crimson)"
      ],
      "metadata": {
        "colab": {
          "base_uri": "https://localhost:8080/"
        },
        "id": "ZOIQz640vYbo",
        "outputId": "6a25eb38-963b-4786-f4ce-e56f3d8d5f59"
      },
      "execution_count": 18,
      "outputs": [
        {
          "output_type": "execute_result",
          "data": {
            "text/plain": [
              "tensor([[ 55,  58,  79],\n",
              "        [ 55,  63,  86],\n",
              "        [ 71,  82, 111]])"
            ]
          },
          "metadata": {},
          "execution_count": 18
        }
      ]
    },
    {
      "cell_type": "markdown",
      "source": [
        "i am currently shocked i was expecting a shape error here but that aside if we ever run into errors lets run transpose of matrix"
      ],
      "metadata": {
        "id": "HrY9e0qowFyC"
      }
    },
    {
      "cell_type": "code",
      "source": [
        "ragna.T"
      ],
      "metadata": {
        "colab": {
          "base_uri": "https://localhost:8080/"
        },
        "id": "Y11aGHsYvyWY",
        "outputId": "d1aec858-c751-4ebf-e289-151a739f3abf"
      },
      "execution_count": 19,
      "outputs": [
        {
          "output_type": "execute_result",
          "data": {
            "text/plain": [
              "tensor([[4, 7, 8],\n",
              "        [5, 6, 9],\n",
              "        [6, 5, 6]])"
            ]
          },
          "metadata": {},
          "execution_count": 19
        }
      ]
    },
    {
      "cell_type": "code",
      "source": [
        "crimson.T\n"
      ],
      "metadata": {
        "colab": {
          "base_uri": "https://localhost:8080/"
        },
        "id": "-JZAqpTSwP-I",
        "outputId": "bf2e55ad-ee97-490f-95b2-155b70867f52"
      },
      "execution_count": 20,
      "outputs": [
        {
          "output_type": "execute_result",
          "data": {
            "text/plain": [
              "tensor([[1, 3, 6],\n",
              "        [2, 4, 5],\n",
              "        [3, 5, 7]])"
            ]
          },
          "metadata": {},
          "execution_count": 20
        }
      ]
    },
    {
      "cell_type": "code",
      "source": [
        "crimson.T.shape"
      ],
      "metadata": {
        "colab": {
          "base_uri": "https://localhost:8080/"
        },
        "id": "_1RY-dBTwR2I",
        "outputId": "dcae343e-b2d7-4e7e-9162-5d1e1fdc27d6"
      },
      "execution_count": 21,
      "outputs": [
        {
          "output_type": "execute_result",
          "data": {
            "text/plain": [
              "torch.Size([3, 3])"
            ]
          },
          "metadata": {},
          "execution_count": 21
        }
      ]
    },
    {
      "cell_type": "markdown",
      "source": [
        "omg i now get it , transpose of the inner dimensions through tensor transpose giving us a lot of easy method to work around the shape erros"
      ],
      "metadata": {
        "id": "-BM7ncO0wd05"
      }
    },
    {
      "cell_type": "code",
      "source": [
        "hello = crimson.T.matmul(ragna.T)"
      ],
      "metadata": {
        "id": "maGFWJztwX7o"
      },
      "execution_count": 23,
      "outputs": []
    },
    {
      "cell_type": "markdown",
      "source": [
        "aggregation function"
      ],
      "metadata": {
        "id": "x89Tly20xCYL"
      }
    },
    {
      "cell_type": "code",
      "source": [
        "torch.sum(hello)"
      ],
      "metadata": {
        "colab": {
          "base_uri": "https://localhost:8080/"
        },
        "id": "jSh-P80Xw2G4",
        "outputId": "7570d0fc-3a0a-41f9-edbe-d1b1046611e8"
      },
      "execution_count": 24,
      "outputs": [
        {
          "output_type": "execute_result",
          "data": {
            "text/plain": [
              "tensor(660)"
            ]
          },
          "metadata": {},
          "execution_count": 24
        }
      ]
    },
    {
      "cell_type": "code",
      "source": [
        "torch.min(hello)"
      ],
      "metadata": {
        "colab": {
          "base_uri": "https://localhost:8080/"
        },
        "id": "9ViQDtduw6eY",
        "outputId": "7d999669-31fb-4ca8-bbe0-b09290e421b3"
      },
      "execution_count": 25,
      "outputs": [
        {
          "output_type": "execute_result",
          "data": {
            "text/plain": [
              "tensor(55)"
            ]
          },
          "metadata": {},
          "execution_count": 25
        }
      ]
    },
    {
      "cell_type": "code",
      "source": [
        "torch.max(hello)"
      ],
      "metadata": {
        "colab": {
          "base_uri": "https://localhost:8080/"
        },
        "id": "o1_yV_M-w8Wo",
        "outputId": "369776bd-dca3-4e1f-c80e-c902e6585e4f"
      },
      "execution_count": 26,
      "outputs": [
        {
          "output_type": "execute_result",
          "data": {
            "text/plain": [
              "tensor(111)"
            ]
          },
          "metadata": {},
          "execution_count": 26
        }
      ]
    },
    {
      "cell_type": "code",
      "source": [
        "barbara = torch.arange(start=9,end=900,step=9)\n",
        "gordon = torch.arange(start=8,end=800,step = 8)\n",
        "robin=torch.arange(start=7,end=700,step=7)\n",
        "\n",
        "barbara*gordon\n",
        "\n"
      ],
      "metadata": {
        "colab": {
          "base_uri": "https://localhost:8080/"
        },
        "id": "vngqzUnRw_mH",
        "outputId": "369aefd3-8436-4d56-c38b-9aeec020d6da"
      },
      "execution_count": 69,
      "outputs": [
        {
          "output_type": "execute_result",
          "data": {
            "text/plain": [
              "tensor([    72,    288,    648,   1152,   1800,   2592,   3528,   4608,   5832,\n",
              "          7200,   8712,  10368,  12168,  14112,  16200,  18432,  20808,  23328,\n",
              "         25992,  28800,  31752,  34848,  38088,  41472,  45000,  48672,  52488,\n",
              "         56448,  60552,  64800,  69192,  73728,  78408,  83232,  88200,  93312,\n",
              "         98568, 103968, 109512, 115200, 121032, 127008, 133128, 139392, 145800,\n",
              "        152352, 159048, 165888, 172872, 180000, 187272, 194688, 202248, 209952,\n",
              "        217800, 225792, 233928, 242208, 250632, 259200, 267912, 276768, 285768,\n",
              "        294912, 304200, 313632, 323208, 332928, 342792, 352800, 362952, 373248,\n",
              "        383688, 394272, 405000, 415872, 426888, 438048, 449352, 460800, 472392,\n",
              "        484128, 496008, 508032, 520200, 532512, 544968, 557568, 570312, 583200,\n",
              "        596232, 609408, 622728, 636192, 649800, 663552, 677448, 691488, 705672])"
            ]
          },
          "metadata": {},
          "execution_count": 69
        }
      ]
    },
    {
      "cell_type": "code",
      "source": [
        "h=torch.max(barbara).min(barbara)"
      ],
      "metadata": {
        "id": "RCBvZ73yyWtv"
      },
      "execution_count": 70,
      "outputs": []
    },
    {
      "cell_type": "code",
      "source": [
        "yo=torch.max(gordon).min(gordon)"
      ],
      "metadata": {
        "id": "jvlR0xQXyrUH"
      },
      "execution_count": 71,
      "outputs": []
    },
    {
      "cell_type": "code",
      "source": [
        "gi = torch.max(robin).min(robin)"
      ],
      "metadata": {
        "id": "K5W34ehJyuxv"
      },
      "execution_count": 72,
      "outputs": []
    },
    {
      "cell_type": "code",
      "source": [
        "print(h.shape)\n",
        "print(yo.shape)\n",
        "print(gi.shape)"
      ],
      "metadata": {
        "colab": {
          "base_uri": "https://localhost:8080/"
        },
        "id": "iyqVk3TuyxHY",
        "outputId": "c0f4916e-3fe4-473b-d105-42586406569c"
      },
      "execution_count": 73,
      "outputs": [
        {
          "output_type": "stream",
          "name": "stdout",
          "text": [
            "torch.Size([99])\n",
            "torch.Size([99])\n",
            "torch.Size([99])\n"
          ]
        }
      ]
    },
    {
      "cell_type": "markdown",
      "source": [
        "as i ran into the problem of having bad shape so i am doing this thing called.shape that helps me understand and play around with the data"
      ],
      "metadata": {
        "id": "j9xBu74-0lKb"
      }
    },
    {
      "cell_type": "code",
      "source": [
        "torch.sum(h+yo+gi)"
      ],
      "metadata": {
        "colab": {
          "base_uri": "https://localhost:8080/"
        },
        "id": "Ol8S_k_Hy_P2",
        "outputId": "7d5209f6-6940-4f6b-fecf-0b2ac83f7b36"
      },
      "execution_count": 74,
      "outputs": [
        {
          "output_type": "execute_result",
          "data": {
            "text/plain": [
              "tensor(118800)"
            ]
          },
          "metadata": {},
          "execution_count": 74
        }
      ]
    },
    {
      "cell_type": "code",
      "source": [
        "torch.max(h+yo+gi)"
      ],
      "metadata": {
        "colab": {
          "base_uri": "https://localhost:8080/"
        },
        "id": "zWj6YGkuzZ2-",
        "outputId": "f95c20ee-7d99-43aa-fa70-febfd1b8dae7"
      },
      "execution_count": 75,
      "outputs": [
        {
          "output_type": "execute_result",
          "data": {
            "text/plain": [
              "tensor(2376)"
            ]
          },
          "metadata": {},
          "execution_count": 75
        }
      ]
    },
    {
      "cell_type": "code",
      "source": [
        "torch.min(h+yo+gi)"
      ],
      "metadata": {
        "colab": {
          "base_uri": "https://localhost:8080/"
        },
        "id": "p9xYPMW6zekv",
        "outputId": "01ac8167-912d-4f49-f349-308d530b0321"
      },
      "execution_count": 76,
      "outputs": [
        {
          "output_type": "execute_result",
          "data": {
            "text/plain": [
              "tensor(24)"
            ]
          },
          "metadata": {},
          "execution_count": 76
        }
      ]
    },
    {
      "cell_type": "markdown",
      "source": [
        "Therefore we got the aggregation all right so whenever we see errors try changing the error with understanding where shape is and understand where u can work towards it through datatypes or transposing whatever u want"
      ],
      "metadata": {
        "id": "jjgo0Mb-04Mp"
      }
    },
    {
      "cell_type": "code",
      "source": [
        "torch.mean(yo.type(torch.float32))"
      ],
      "metadata": {
        "colab": {
          "base_uri": "https://localhost:8080/"
        },
        "id": "wzXph30Xzgym",
        "outputId": "a27551b2-75cf-4f91-ce3d-eacf8b43c0e3"
      },
      "execution_count": 82,
      "outputs": [
        {
          "output_type": "execute_result",
          "data": {
            "text/plain": [
              "tensor(400.)"
            ]
          },
          "metadata": {},
          "execution_count": 82
        }
      ]
    },
    {
      "cell_type": "code",
      "source": [
        "yo.argmin()"
      ],
      "metadata": {
        "colab": {
          "base_uri": "https://localhost:8080/"
        },
        "id": "brwYwnLn1YgX",
        "outputId": "4d65001c-852a-45ca-db93-901cce33b3d0"
      },
      "execution_count": 83,
      "outputs": [
        {
          "output_type": "execute_result",
          "data": {
            "text/plain": [
              "tensor(0)"
            ]
          },
          "metadata": {},
          "execution_count": 83
        }
      ]
    },
    {
      "cell_type": "code",
      "source": [
        "yo.argmax()"
      ],
      "metadata": {
        "colab": {
          "base_uri": "https://localhost:8080/"
        },
        "id": "nAYmfjvz22Ou",
        "outputId": "5fa37f93-2a49-4b7d-dddc-5b68dd40f33c"
      },
      "execution_count": 84,
      "outputs": [
        {
          "output_type": "execute_result",
          "data": {
            "text/plain": [
              "tensor(98)"
            ]
          },
          "metadata": {},
          "execution_count": 84
        }
      ]
    },
    {
      "cell_type": "markdown",
      "source": [
        "Alr this is the basics of aggregations and now lets start with reshaping ,squeezing and unsqueezing tensors\n"
      ],
      "metadata": {
        "id": "bAuFxD2X3Yti"
      }
    },
    {
      "cell_type": "code",
      "source": [
        "##reshaping - defines tensor in required shape\n",
        "# view - return views like sql views\n",
        "#stacking - combining / concatinating stacks on top each other (h/z)\n",
        "#squeeze- removes id\n",
        "#unsqueeze - adds 1d\n",
        "#permute - returns of view with dimensions in a way"
      ],
      "metadata": {
        "id": "odUT_eX03PaW"
      },
      "execution_count": 87,
      "outputs": []
    },
    {
      "cell_type": "code",
      "source": [
        "hellsing = torch.arange(start = 1 , end = 100 , step = 1)\n",
        "hellsing.shape"
      ],
      "metadata": {
        "colab": {
          "base_uri": "https://localhost:8080/"
        },
        "id": "_mgBTXCi4YAF",
        "outputId": "70e47ea4-151e-4ad7-aa04-3fa77c0354fe"
      },
      "execution_count": 96,
      "outputs": [
        {
          "output_type": "execute_result",
          "data": {
            "text/plain": [
              "torch.Size([99])"
            ]
          },
          "metadata": {},
          "execution_count": 96
        }
      ]
    },
    {
      "cell_type": "code",
      "source": [
        "hellsing_unloaded = hellsing.reshape(3,33)"
      ],
      "metadata": {
        "id": "go-M31s34agF"
      },
      "execution_count": 97,
      "outputs": []
    },
    {
      "cell_type": "code",
      "source": [
        "hellsing_unloaded.shape"
      ],
      "metadata": {
        "colab": {
          "base_uri": "https://localhost:8080/"
        },
        "id": "yoth3Zu_4wP9",
        "outputId": "2d8d36f2-7087-40f2-d324-29652b37c07c"
      },
      "execution_count": 98,
      "outputs": [
        {
          "output_type": "execute_result",
          "data": {
            "text/plain": [
              "torch.Size([3, 33])"
            ]
          },
          "metadata": {},
          "execution_count": 98
        }
      ]
    },
    {
      "cell_type": "code",
      "source": [
        "hellsing_unloaded.view(11,9)"
      ],
      "metadata": {
        "colab": {
          "base_uri": "https://localhost:8080/"
        },
        "id": "3W8fmnFa5cjV",
        "outputId": "6d5a518a-dd5e-45d0-98e9-d33d8d47733f"
      },
      "execution_count": 103,
      "outputs": [
        {
          "output_type": "execute_result",
          "data": {
            "text/plain": [
              "tensor([[ 1,  2,  3,  4,  5,  6,  7,  8,  9],\n",
              "        [10, 11, 12, 13, 14, 15, 16, 17, 18],\n",
              "        [19, 20, 21, 22, 23, 24, 25, 26, 27],\n",
              "        [28, 29, 30, 31, 32, 33, 34, 35, 36],\n",
              "        [37, 38, 39, 40, 41, 42, 43, 44, 45],\n",
              "        [46, 47, 48, 49, 50, 51, 52, 53, 54],\n",
              "        [55, 56, 57, 58, 59, 60, 61, 62, 63],\n",
              "        [64, 65, 66, 67, 68, 69, 70, 71, 72],\n",
              "        [73, 74, 75, 76, 77, 78, 79, 80, 81],\n",
              "        [82, 83, 84, 85, 86, 87, 88, 89, 90],\n",
              "        [91, 92, 93, 94, 95, 96, 97, 98, 99]])"
            ]
          },
          "metadata": {},
          "execution_count": 103
        }
      ]
    },
    {
      "cell_type": "code",
      "source": [
        "hellsing_unloaded.squeeze"
      ],
      "metadata": {
        "colab": {
          "base_uri": "https://localhost:8080/"
        },
        "id": "bSw8M0Yl69wc",
        "outputId": "fe463a85-1378-40b3-8bb0-b1e8cdc910a7"
      },
      "execution_count": 105,
      "outputs": [
        {
          "output_type": "execute_result",
          "data": {
            "text/plain": [
              "<function Tensor.squeeze>"
            ]
          },
          "metadata": {},
          "execution_count": 105
        }
      ]
    },
    {
      "cell_type": "code",
      "source": [
        "hellsing_unloaded"
      ],
      "metadata": {
        "colab": {
          "base_uri": "https://localhost:8080/"
        },
        "id": "BAqGc36z7Ssz",
        "outputId": "b67acff7-5d81-4d04-e8c4-995fa9a4b182"
      },
      "execution_count": 106,
      "outputs": [
        {
          "output_type": "execute_result",
          "data": {
            "text/plain": [
              "tensor([[ 1,  2,  3,  4,  5,  6,  7,  8,  9, 10, 11, 12, 13, 14, 15, 16, 17, 18,\n",
              "         19, 20, 21, 22, 23, 24, 25, 26, 27, 28, 29, 30, 31, 32, 33],\n",
              "        [34, 35, 36, 37, 38, 39, 40, 41, 42, 43, 44, 45, 46, 47, 48, 49, 50, 51,\n",
              "         52, 53, 54, 55, 56, 57, 58, 59, 60, 61, 62, 63, 64, 65, 66],\n",
              "        [67, 68, 69, 70, 71, 72, 73, 74, 75, 76, 77, 78, 79, 80, 81, 82, 83, 84,\n",
              "         85, 86, 87, 88, 89, 90, 91, 92, 93, 94, 95, 96, 97, 98, 99]])"
            ]
          },
          "metadata": {},
          "execution_count": 106
        }
      ]
    },
    {
      "cell_type": "code",
      "source": [
        "hellsing_unloaded.shape"
      ],
      "metadata": {
        "colab": {
          "base_uri": "https://localhost:8080/"
        },
        "id": "uoryysKP7Wds",
        "outputId": "ba355241-03eb-4eb0-dc08-dc2b74e38e61"
      },
      "execution_count": 107,
      "outputs": [
        {
          "output_type": "execute_result",
          "data": {
            "text/plain": [
              "torch.Size([3, 33])"
            ]
          },
          "metadata": {},
          "execution_count": 107
        }
      ]
    },
    {
      "cell_type": "code",
      "source": [
        "hu =hellsing_unloaded.reshape(11,9)"
      ],
      "metadata": {
        "id": "kd9UYvsa7nzs"
      },
      "execution_count": 111,
      "outputs": []
    },
    {
      "cell_type": "code",
      "source": [
        "hu=hellsing_unloaded.squeeze\n",
        "hu"
      ],
      "metadata": {
        "colab": {
          "base_uri": "https://localhost:8080/"
        },
        "id": "H0QDgAPu7tOc",
        "outputId": "e86bdfc2-4545-4188-8106-63690d06942b"
      },
      "execution_count": 119,
      "outputs": [
        {
          "output_type": "execute_result",
          "data": {
            "text/plain": [
              "<function Tensor.squeeze>"
            ]
          },
          "metadata": {},
          "execution_count": 119
        }
      ]
    },
    {
      "cell_type": "code",
      "source": [
        "hu=hellsing_unloaded.shape"
      ],
      "metadata": {
        "id": "NMghFcuS7yHI"
      },
      "execution_count": 113,
      "outputs": []
    },
    {
      "cell_type": "code",
      "source": [
        "hu"
      ],
      "metadata": {
        "colab": {
          "base_uri": "https://localhost:8080/"
        },
        "id": "Rq_0HVkB70gm",
        "outputId": "147d5c3f-7e15-40d7-8f6e-5f9ac624a4e9"
      },
      "execution_count": 114,
      "outputs": [
        {
          "output_type": "execute_result",
          "data": {
            "text/plain": [
              "torch.Size([3, 33])"
            ]
          },
          "metadata": {},
          "execution_count": 114
        }
      ]
    },
    {
      "cell_type": "code",
      "source": [],
      "metadata": {
        "id": "WWdwhBFd8WoE"
      },
      "execution_count": null,
      "outputs": []
    }
  ]
}