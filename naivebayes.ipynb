{
 "cells": [
  {
   "cell_type": "code",
   "execution_count": 1,
   "metadata": {},
   "outputs": [],
   "source": [
    "import numpy as np\n",
    "import pandas as pd"
   ]
  },
  {
   "cell_type": "code",
   "execution_count": 3,
   "metadata": {},
   "outputs": [],
   "source": [
    "x = pd.read_csv(\"weather.csv\")\n"
   ]
  },
  {
   "cell_type": "code",
   "execution_count": 4,
   "metadata": {},
   "outputs": [
    {
     "data": {
      "text/plain": [
       "(14, 6)"
      ]
     },
     "execution_count": 4,
     "metadata": {},
     "output_type": "execute_result"
    }
   ],
   "source": [
    "x.shape"
   ]
  },
  {
   "cell_type": "code",
   "execution_count": 5,
   "metadata": {},
   "outputs": [
    {
     "data": {
      "text/plain": [
       "s.no            int64\n",
       "Outlook        object\n",
       "Temperature    object\n",
       "Humidity       object\n",
       "Windy            bool\n",
       "Play Golf      object\n",
       "dtype: object"
      ]
     },
     "execution_count": 5,
     "metadata": {},
     "output_type": "execute_result"
    }
   ],
   "source": [
    "x.dtypes"
   ]
  },
  {
   "cell_type": "code",
   "execution_count": 6,
   "metadata": {},
   "outputs": [
    {
     "data": {
      "text/plain": [
       "<bound method DataFrame.nunique of     s.no   Outlook Temperature Humidity  Windy Play Golf\n",
       "0      0     Rainy         Hot     High  False        No\n",
       "1      1     Rainy         Hot     High   True        No\n",
       "2      2  Overcast         Hot     High  False       Yes\n",
       "3      3     Sunny        Mild     High  False       Yes\n",
       "4      4     Sunny        Cool   Normal  False       Yes\n",
       "5      5     Sunny        Cool   Normal   True        No\n",
       "6      6  Overcast        Cool   Normal   True       Yes\n",
       "7      7     Rainy        Mild     High  False        No\n",
       "8      8     Rainy        Cool   Normal  False       Yes\n",
       "9      9     Sunny        Mild   Normal  False       Yes\n",
       "10    10     Rainy        Mild   Normal   True       Yes\n",
       "11    11  Overcast        Mild     High   True       Yes\n",
       "12    12  Overcast         Hot   Normal  False       Yes\n",
       "13    13     Sunny        Mild     High   True        No>"
      ]
     },
     "execution_count": 6,
     "metadata": {},
     "output_type": "execute_result"
    }
   ],
   "source": [
    "x.nunique"
   ]
  },
  {
   "cell_type": "code",
   "execution_count": 8,
   "metadata": {},
   "outputs": [],
   "source": [
    "import category_encoders as ce"
   ]
  },
  {
   "cell_type": "code",
   "execution_count": 10,
   "metadata": {},
   "outputs": [],
   "source": [
    "encoder = ce.OrdinalEncoder(cols=['Outlook', 'Temperature', 'Humidity', 'Play Golf','Windy'])\n",
    "\n",
    "x = encoder.fit_transform(x)\n"
   ]
  },
  {
   "cell_type": "code",
   "execution_count": 11,
   "metadata": {},
   "outputs": [
    {
     "data": {
      "text/plain": [
       "<bound method NDFrame.head of     s.no  Outlook  Temperature  Humidity  Windy  Play Golf\n",
       "0      0        1            1         1      1          1\n",
       "1      1        1            1         1      2          1\n",
       "2      2        2            1         1      1          2\n",
       "3      3        3            2         1      1          2\n",
       "4      4        3            3         2      1          2\n",
       "5      5        3            3         2      2          1\n",
       "6      6        2            3         2      2          2\n",
       "7      7        1            2         1      1          1\n",
       "8      8        1            3         2      1          2\n",
       "9      9        3            2         2      1          2\n",
       "10    10        1            2         2      2          2\n",
       "11    11        2            2         1      2          2\n",
       "12    12        2            1         2      1          2\n",
       "13    13        3            2         1      2          1>"
      ]
     },
     "execution_count": 11,
     "metadata": {},
     "output_type": "execute_result"
    }
   ],
   "source": [
    "x.head"
   ]
  },
  {
   "cell_type": "code",
   "execution_count": 13,
   "metadata": {},
   "outputs": [
    {
     "data": {
      "text/plain": [
       "s.no           int64\n",
       "Outlook        int32\n",
       "Temperature    int32\n",
       "Humidity       int32\n",
       "Windy          int32\n",
       "Play Golf      int32\n",
       "dtype: object"
      ]
     },
     "execution_count": 13,
     "metadata": {},
     "output_type": "execute_result"
    }
   ],
   "source": [
    "x.dtypes"
   ]
  },
  {
   "cell_type": "code",
   "execution_count": 15,
   "metadata": {},
   "outputs": [
    {
     "data": {
      "text/plain": [
       "0"
      ]
     },
     "execution_count": 15,
     "metadata": {},
     "output_type": "execute_result"
    }
   ],
   "source": [
    "x.isna().sum().sum()"
   ]
  },
  {
   "cell_type": "code",
   "execution_count": 16,
   "metadata": {},
   "outputs": [],
   "source": [
    "from sklearn.model_selection import train_test_split"
   ]
  },
  {
   "cell_type": "code",
   "execution_count": 18,
   "metadata": {},
   "outputs": [],
   "source": [
    "x_train,x_test = train_test_split(x, test_size = 0.2,random_state=2)"
   ]
  },
  {
   "cell_type": "code",
   "execution_count": 19,
   "metadata": {},
   "outputs": [],
   "source": [
    "x_train.reset_index(drop=True,inplace=True)\n",
    "x_test.reset_index(drop=True,inplace=True)"
   ]
  },
  {
   "cell_type": "code",
   "execution_count": null,
   "metadata": {},
   "outputs": [],
   "source": []
  },
  {
   "cell_type": "code",
   "execution_count": null,
   "metadata": {},
   "outputs": [],
   "source": []
  }
 ],
 "metadata": {
  "kernelspec": {
   "display_name": "base",
   "language": "python",
   "name": "python3"
  },
  "language_info": {
   "codemirror_mode": {
    "name": "ipython",
    "version": 3
   },
   "file_extension": ".py",
   "mimetype": "text/x-python",
   "name": "python",
   "nbconvert_exporter": "python",
   "pygments_lexer": "ipython3",
   "version": "3.11.5"
  }
 },
 "nbformat": 4,
 "nbformat_minor": 2
}
