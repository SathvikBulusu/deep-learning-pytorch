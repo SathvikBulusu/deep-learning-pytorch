{
  "nbformat": 4,
  "nbformat_minor": 0,
  "metadata": {
    "colab": {
      "provenance": [],
      "gpuType": "T4"
    },
    "kernelspec": {
      "name": "python3",
      "display_name": "Python 3"
    },
    "language_info": {
      "name": "python"
    },
    "accelerator": "GPU"
  },
  "cells": [
    {
      "cell_type": "code",
      "execution_count": 3,
      "metadata": {
        "id": "46U7Wh7za7td"
      },
      "outputs": [],
      "source": [
        "import torch\n",
        "from torch import nn\n",
        "import numpy as np\n",
        "import pandas as pd\n",
        "import matplotlib.pyplot as plt"
      ]
    },
    {
      "cell_type": "markdown",
      "source": [
        "## the deep learning model start\n",
        "\n",
        "\n",
        "1. data into tensors\n",
        "2. pytorch model\n",
        "3. make predictions\n",
        "4. evaluate the model\n",
        "5. improve through experimentation\n",
        "6. save and reload the model"
      ],
      "metadata": {
        "id": "xNCREJi2bO7R"
      }
    },
    {
      "cell_type": "markdown",
      "source": [
        "### !. Data ( getting and cleaning the data )\n",
        "\n",
        "* can have structued , unstructured data , semi strucutred data\n",
        "\n",
        "\n"
      ],
      "metadata": {
        "id": "V8rb6-vZd8v5"
      }
    },
    {
      "cell_type": "code",
      "source": [
        "#creating data\n",
        "\n",
        "weight = 0.7\n",
        "bias = 0.5\n",
        "\n",
        "\n",
        "start = 0\n",
        "end = 1\n",
        "step =0.03\n",
        "X = torch.arange(start,end,step).unsqueeze(dim=1)\n",
        "Y = weight * X +bias\n",
        "\n",
        "X[:10],Y[:10]"
      ],
      "metadata": {
        "colab": {
          "base_uri": "https://localhost:8080/"
        },
        "id": "y4lCaLCsbHes",
        "outputId": "16b47f60-4351-4c78-c0d8-e3874aeaef71"
      },
      "execution_count": 4,
      "outputs": [
        {
          "output_type": "execute_result",
          "data": {
            "text/plain": [
              "(tensor([[0.0000],\n",
              "         [0.0300],\n",
              "         [0.0600],\n",
              "         [0.0900],\n",
              "         [0.1200],\n",
              "         [0.1500],\n",
              "         [0.1800],\n",
              "         [0.2100],\n",
              "         [0.2400],\n",
              "         [0.2700]]),\n",
              " tensor([[0.5000],\n",
              "         [0.5210],\n",
              "         [0.5420],\n",
              "         [0.5630],\n",
              "         [0.5840],\n",
              "         [0.6050],\n",
              "         [0.6260],\n",
              "         [0.6470],\n",
              "         [0.6680],\n",
              "         [0.6890]]))"
            ]
          },
          "metadata": {},
          "execution_count": 4
        }
      ]
    },
    {
      "cell_type": "code",
      "source": [
        "###divding the data into train and test set"
      ],
      "metadata": {
        "id": "9Z280UPxkYsH"
      },
      "execution_count": 5,
      "outputs": []
    },
    {
      "cell_type": "code",
      "source": [
        "train_split = int(0.8* len(X))\n",
        "X_train,Y_train = X[:train_split],y[:train_split]\n",
        "X_test,Y_test = X[train_split:],Y[train_split]\n",
        "\n",
        "len(X-train),len(y_train)"
      ],
      "metadata": {
        "id": "LmUMgBZAlIPN"
      },
      "execution_count": null,
      "outputs": []
    }
  ]
}