{
  "nbformat": 4,
  "nbformat_minor": 0,
  "metadata": {
    "colab": {
      "provenance": [],
      "gpuType": "T4"
    },
    "kernelspec": {
      "name": "python3",
      "display_name": "Python 3"
    },
    "language_info": {
      "name": "python"
    },
    "accelerator": "GPU"
  },
  "cells": [
    {
      "cell_type": "code",
      "execution_count": 2,
      "metadata": {
        "id": "46U7Wh7za7td"
      },
      "outputs": [],
      "source": [
        "import torch\n",
        "from torch import nn\n",
        "import numpy as np\n",
        "import pandas as pd\n",
        "import matplotlib.pyplot as plt"
      ]
    },
    {
      "cell_type": "markdown",
      "source": [
        "## the deep learning model start\n",
        "\n",
        "\n",
        "1. data into tensors\n",
        "2. pytorch model\n",
        "3. make predictions\n",
        "4. evaluate the model\n",
        "5. improve through experimentation\n",
        "6. save and reload the model"
      ],
      "metadata": {
        "id": "xNCREJi2bO7R"
      }
    },
    {
      "cell_type": "markdown",
      "source": [
        "### !. Data ( getting and cleaning the data )\n",
        "\n",
        "* can have structued , unstructured data , semi strucutred data\n",
        "\n",
        "\n"
      ],
      "metadata": {
        "id": "V8rb6-vZd8v5"
      }
    },
    {
      "cell_type": "code",
      "source": [],
      "metadata": {
        "id": "y4lCaLCsbHes"
      },
      "execution_count": null,
      "outputs": []
    }
  ]
}