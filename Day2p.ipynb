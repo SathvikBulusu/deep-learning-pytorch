{
  "nbformat": 4,
  "nbformat_minor": 0,
  "metadata": {
    "colab": {
      "provenance": []
    },
    "kernelspec": {
      "name": "python3",
      "display_name": "Python 3"
    },
    "language_info": {
      "name": "python"
    }
  },
  "cells": [
    {
      "cell_type": "markdown",
      "source": [
        "## Hello there your International friendly vigilante is back online and we are going to go deep into the tensors today\n"
      ],
      "metadata": {
        "id": "BGo7iDswZKtq"
      }
    },
    {
      "cell_type": "code",
      "source": [
        "##so apparently theres a way we can actually start creating random zeros with tensors"
      ],
      "metadata": {
        "id": "JAEJQQQ6ZUzM"
      },
      "execution_count": 1,
      "outputs": []
    },
    {
      "cell_type": "code",
      "source": [
        "import torch\n",
        "import numpy as np\n",
        "import pandas as pd\n",
        "import matplotlib.pyplot as plt\n",
        "\n",
        "\n",
        "\n",
        "hero = torch.zeros([4,5,6])"
      ],
      "metadata": {
        "id": "5Kydi_YCaXSF"
      },
      "execution_count": 5,
      "outputs": []
    },
    {
      "cell_type": "code",
      "source": [
        "hero"
      ],
      "metadata": {
        "colab": {
          "base_uri": "https://localhost:8080/"
        },
        "id": "wIA0l-N-ae2T",
        "outputId": "08214c34-2853-4ccb-fa16-03d13034666e"
      },
      "execution_count": 6,
      "outputs": [
        {
          "output_type": "execute_result",
          "data": {
            "text/plain": [
              "tensor([[[0., 0., 0., 0., 0., 0.],\n",
              "         [0., 0., 0., 0., 0., 0.],\n",
              "         [0., 0., 0., 0., 0., 0.],\n",
              "         [0., 0., 0., 0., 0., 0.],\n",
              "         [0., 0., 0., 0., 0., 0.]],\n",
              "\n",
              "        [[0., 0., 0., 0., 0., 0.],\n",
              "         [0., 0., 0., 0., 0., 0.],\n",
              "         [0., 0., 0., 0., 0., 0.],\n",
              "         [0., 0., 0., 0., 0., 0.],\n",
              "         [0., 0., 0., 0., 0., 0.]],\n",
              "\n",
              "        [[0., 0., 0., 0., 0., 0.],\n",
              "         [0., 0., 0., 0., 0., 0.],\n",
              "         [0., 0., 0., 0., 0., 0.],\n",
              "         [0., 0., 0., 0., 0., 0.],\n",
              "         [0., 0., 0., 0., 0., 0.]],\n",
              "\n",
              "        [[0., 0., 0., 0., 0., 0.],\n",
              "         [0., 0., 0., 0., 0., 0.],\n",
              "         [0., 0., 0., 0., 0., 0.],\n",
              "         [0., 0., 0., 0., 0., 0.],\n",
              "         [0., 0., 0., 0., 0., 0.]]])"
            ]
          },
          "metadata": {},
          "execution_count": 6
        }
      ]
    },
    {
      "cell_type": "code",
      "source": [
        "##so we can also create tensors that for some reason takes ones and zeros and multiplies"
      ],
      "metadata": {
        "id": "NIze4lIzazxz"
      },
      "execution_count": 7,
      "outputs": []
    },
    {
      "cell_type": "code",
      "source": [
        "villans = torch.ones([3,4,5])"
      ],
      "metadata": {
        "id": "2P18HD4Ubor5"
      },
      "execution_count": 8,
      "outputs": []
    },
    {
      "cell_type": "code",
      "source": [
        "villans\n"
      ],
      "metadata": {
        "colab": {
          "base_uri": "https://localhost:8080/"
        },
        "id": "uQlwUFfXbsnp",
        "outputId": "1950638d-5ac8-4b20-e69f-f3eb9211fc30"
      },
      "execution_count": 9,
      "outputs": [
        {
          "output_type": "execute_result",
          "data": {
            "text/plain": [
              "tensor([[[1., 1., 1., 1., 1.],\n",
              "         [1., 1., 1., 1., 1.],\n",
              "         [1., 1., 1., 1., 1.],\n",
              "         [1., 1., 1., 1., 1.]],\n",
              "\n",
              "        [[1., 1., 1., 1., 1.],\n",
              "         [1., 1., 1., 1., 1.],\n",
              "         [1., 1., 1., 1., 1.],\n",
              "         [1., 1., 1., 1., 1.]],\n",
              "\n",
              "        [[1., 1., 1., 1., 1.],\n",
              "         [1., 1., 1., 1., 1.],\n",
              "         [1., 1., 1., 1., 1.],\n",
              "         [1., 1., 1., 1., 1.]]])"
            ]
          },
          "metadata": {},
          "execution_count": 9
        }
      ]
    },
    {
      "cell_type": "code",
      "source": [
        "villans.dtype\n"
      ],
      "metadata": {
        "colab": {
          "base_uri": "https://localhost:8080/"
        },
        "id": "QXOkTVDwbuEp",
        "outputId": "d9336a0b-73f3-4389-c78f-54f637471c16"
      },
      "execution_count": 10,
      "outputs": [
        {
          "output_type": "execute_result",
          "data": {
            "text/plain": [
              "torch.float32"
            ]
          },
          "metadata": {},
          "execution_count": 10
        }
      ]
    },
    {
      "cell_type": "code",
      "source": [
        "###creating tensors in range"
      ],
      "metadata": {
        "id": "QkDB5ltdcBeR"
      },
      "execution_count": 11,
      "outputs": []
    },
    {
      "cell_type": "code",
      "source": [
        "gojo = torch.arange(2,899998)"
      ],
      "metadata": {
        "id": "D7eTSDnMcSo5"
      },
      "execution_count": 12,
      "outputs": []
    },
    {
      "cell_type": "code",
      "source": [
        "gojo\n"
      ],
      "metadata": {
        "colab": {
          "base_uri": "https://localhost:8080/"
        },
        "id": "FX-0rsBjcd4K",
        "outputId": "644da94c-85f1-47bb-ab1b-963726cbd296"
      },
      "execution_count": 13,
      "outputs": [
        {
          "output_type": "execute_result",
          "data": {
            "text/plain": [
              "tensor([     2,      3,      4,  ..., 899995, 899996, 899997])"
            ]
          },
          "metadata": {},
          "execution_count": 13
        }
      ]
    },
    {
      "cell_type": "code",
      "source": [
        "satoru = torch.arange(start = 12 , end = 567 , step=4)"
      ],
      "metadata": {
        "id": "d_4d-6wwce-C"
      },
      "execution_count": 14,
      "outputs": []
    },
    {
      "cell_type": "code",
      "source": [
        "satoru"
      ],
      "metadata": {
        "colab": {
          "base_uri": "https://localhost:8080/"
        },
        "id": "PKaa22PrdH8a",
        "outputId": "5b7319f0-4407-4621-e600-8febd2982c35"
      },
      "execution_count": 15,
      "outputs": [
        {
          "output_type": "execute_result",
          "data": {
            "text/plain": [
              "tensor([ 12,  16,  20,  24,  28,  32,  36,  40,  44,  48,  52,  56,  60,  64,\n",
              "         68,  72,  76,  80,  84,  88,  92,  96, 100, 104, 108, 112, 116, 120,\n",
              "        124, 128, 132, 136, 140, 144, 148, 152, 156, 160, 164, 168, 172, 176,\n",
              "        180, 184, 188, 192, 196, 200, 204, 208, 212, 216, 220, 224, 228, 232,\n",
              "        236, 240, 244, 248, 252, 256, 260, 264, 268, 272, 276, 280, 284, 288,\n",
              "        292, 296, 300, 304, 308, 312, 316, 320, 324, 328, 332, 336, 340, 344,\n",
              "        348, 352, 356, 360, 364, 368, 372, 376, 380, 384, 388, 392, 396, 400,\n",
              "        404, 408, 412, 416, 420, 424, 428, 432, 436, 440, 444, 448, 452, 456,\n",
              "        460, 464, 468, 472, 476, 480, 484, 488, 492, 496, 500, 504, 508, 512,\n",
              "        516, 520, 524, 528, 532, 536, 540, 544, 548, 552, 556, 560, 564])"
            ]
          },
          "metadata": {},
          "execution_count": 15
        }
      ]
    },
    {
      "cell_type": "markdown",
      "source": [
        "###so apprantly i can absolutely create tensors based on the shapes i want and if i am too lazy to put the shape i can just be like copy the move like another tensor lol , so i am lazy at the moment cause i am busy understanding why dc is not producing good films lol , therefore i would be doing like function here"
      ],
      "metadata": {
        "id": "7a9RJr9heVFe"
      }
    },
    {
      "cell_type": "code",
      "source": [
        "dc = torch.zeros_like(satoru)\n",
        "dc"
      ],
      "metadata": {
        "colab": {
          "base_uri": "https://localhost:8080/"
        },
        "id": "PY5mCNg4dKXh",
        "outputId": "2d767249-23db-4323-a676-654f32f96d93"
      },
      "execution_count": 16,
      "outputs": [
        {
          "output_type": "execute_result",
          "data": {
            "text/plain": [
              "tensor([0, 0, 0, 0, 0, 0, 0, 0, 0, 0, 0, 0, 0, 0, 0, 0, 0, 0, 0, 0, 0, 0, 0, 0,\n",
              "        0, 0, 0, 0, 0, 0, 0, 0, 0, 0, 0, 0, 0, 0, 0, 0, 0, 0, 0, 0, 0, 0, 0, 0,\n",
              "        0, 0, 0, 0, 0, 0, 0, 0, 0, 0, 0, 0, 0, 0, 0, 0, 0, 0, 0, 0, 0, 0, 0, 0,\n",
              "        0, 0, 0, 0, 0, 0, 0, 0, 0, 0, 0, 0, 0, 0, 0, 0, 0, 0, 0, 0, 0, 0, 0, 0,\n",
              "        0, 0, 0, 0, 0, 0, 0, 0, 0, 0, 0, 0, 0, 0, 0, 0, 0, 0, 0, 0, 0, 0, 0, 0,\n",
              "        0, 0, 0, 0, 0, 0, 0, 0, 0, 0, 0, 0, 0, 0, 0, 0, 0, 0, 0])"
            ]
          },
          "metadata": {},
          "execution_count": 16
        }
      ]
    },
    {
      "cell_type": "code",
      "source": [],
      "metadata": {
        "id": "vyPJel1Pe4FY"
      },
      "execution_count": null,
      "outputs": []
    },
    {
      "cell_type": "markdown",
      "source": [
        "### so i learnt about tensors with arange ( creates stuff from any number to your destination , then i can create new shapes and forms and link them together and i understood i could litreally add or create o and 1 tensors"
      ],
      "metadata": {
        "id": "_MfYbpYIfVYX"
      }
    },
    {
      "cell_type": "code",
      "source": [
        "print (satoru + gojo + hero + villans)"
      ],
      "metadata": {
        "colab": {
          "base_uri": "https://localhost:8080/",
          "height": 192
        },
        "id": "v15S1jJ6fpdC",
        "outputId": "7e49ad2f-6008-45ef-9aee-ad35e4af5691"
      },
      "execution_count": 17,
      "outputs": [
        {
          "output_type": "error",
          "ename": "RuntimeError",
          "evalue": "The size of tensor a (139) must match the size of tensor b (899996) at non-singleton dimension 0",
          "traceback": [
            "\u001b[0;31m---------------------------------------------------------------------------\u001b[0m",
            "\u001b[0;31mRuntimeError\u001b[0m                              Traceback (most recent call last)",
            "\u001b[0;32m<ipython-input-17-dd910d72b8d4>\u001b[0m in \u001b[0;36m<cell line: 1>\u001b[0;34m()\u001b[0m\n\u001b[0;32m----> 1\u001b[0;31m \u001b[0mprint\u001b[0m \u001b[0;34m(\u001b[0m\u001b[0msatoru\u001b[0m \u001b[0;34m+\u001b[0m \u001b[0mgojo\u001b[0m \u001b[0;34m+\u001b[0m \u001b[0mhero\u001b[0m \u001b[0;34m+\u001b[0m \u001b[0mvillans\u001b[0m\u001b[0;34m)\u001b[0m\u001b[0;34m\u001b[0m\u001b[0;34m\u001b[0m\u001b[0m\n\u001b[0m",
            "\u001b[0;31mRuntimeError\u001b[0m: The size of tensor a (139) must match the size of tensor b (899996) at non-singleton dimension 0"
          ]
        }
      ]
    },
    {
      "cell_type": "code",
      "source": [
        "### see i made this mistake on purpose to make sure that others wont cause as you see this is\n",
        "### is litreally like a maze u need to know the foundations of pytorch mate cause we do have to makee sure that\n",
        "### yes what i am typing has to be dimension based"
      ],
      "metadata": {
        "id": "PRVNtvYwfwcI"
      },
      "execution_count": 19,
      "outputs": []
    },
    {
      "cell_type": "code",
      "source": [
        "gojosatoru = torch.zeros(4,5,6)"
      ],
      "metadata": {
        "id": "SaqqowW5f31w"
      },
      "execution_count": 23,
      "outputs": []
    },
    {
      "cell_type": "code",
      "source": [
        "tenjaku = torch.ones(4,5,6)"
      ],
      "metadata": {
        "id": "AuSVURLEgKEo"
      },
      "execution_count": 24,
      "outputs": []
    },
    {
      "cell_type": "code",
      "source": [
        "yuji = torch.arange(start=4,end=5,step=6)"
      ],
      "metadata": {
        "id": "PASzWKy3gXlg"
      },
      "execution_count": 31,
      "outputs": []
    },
    {
      "cell_type": "markdown",
      "source": [
        "### Tensor Datatypes"
      ],
      "metadata": {
        "id": "x661BjQ0l6H8"
      }
    },
    {
      "cell_type": "code",
      "source": [
        "## 32 , 16 bit floating point data type"
      ],
      "metadata": {
        "id": "i69RiyFzlpb-"
      },
      "execution_count": 38,
      "outputs": []
    },
    {
      "cell_type": "code",
      "source": [
        "## Tensor datatypes are one of the 3 big errors we run into in pytorch\n",
        "## 1. t not being right datatype\n",
        "## 2. t is not right shape and another one is right device"
      ],
      "metadata": {
        "id": "WungJBaNmKu_"
      },
      "execution_count": 40,
      "outputs": []
    },
    {
      "cell_type": "code",
      "source": [
        "got = torch.tensor([2,3,4])"
      ],
      "metadata": {
        "id": "RVpzsxwim3NG"
      },
      "execution_count": 45,
      "outputs": []
    },
    {
      "cell_type": "code",
      "source": [
        "got.dtype"
      ],
      "metadata": {
        "colab": {
          "base_uri": "https://localhost:8080/"
        },
        "id": "auxvnULcnjE-",
        "outputId": "12a22af8-6d71-4f2b-870c-51f1779ba91b"
      },
      "execution_count": 46,
      "outputs": [
        {
          "output_type": "execute_result",
          "data": {
            "text/plain": [
              "torch.int64"
            ]
          },
          "metadata": {},
          "execution_count": 46
        }
      ]
    },
    {
      "cell_type": "code",
      "source": [
        "got = got.type(torch.float32)"
      ],
      "metadata": {
        "id": "wW6KKvlWn9Vq"
      },
      "execution_count": 47,
      "outputs": []
    },
    {
      "cell_type": "code",
      "source": [
        "got"
      ],
      "metadata": {
        "colab": {
          "base_uri": "https://localhost:8080/"
        },
        "id": "4nuinFAfoFkB",
        "outputId": "e6da5727-5b5b-4ddd-d963-8eebec0eeb16"
      },
      "execution_count": 48,
      "outputs": [
        {
          "output_type": "execute_result",
          "data": {
            "text/plain": [
              "tensor([2., 3., 4.])"
            ]
          },
          "metadata": {},
          "execution_count": 48
        }
      ]
    },
    {
      "cell_type": "code",
      "source": [
        "got = got.type(torch.complex64)"
      ],
      "metadata": {
        "id": "j0aTM6Jrowcl"
      },
      "execution_count": 49,
      "outputs": []
    },
    {
      "cell_type": "code",
      "source": [
        "got"
      ],
      "metadata": {
        "colab": {
          "base_uri": "https://localhost:8080/"
        },
        "id": "05J06UWYo0-9",
        "outputId": "c72369df-834d-4df7-feb8-09aecc0001b2"
      },
      "execution_count": 50,
      "outputs": [
        {
          "output_type": "execute_result",
          "data": {
            "text/plain": [
              "tensor([2.+0.j, 3.+0.j, 4.+0.j])"
            ]
          },
          "metadata": {},
          "execution_count": 50
        }
      ]
    },
    {
      "cell_type": "markdown",
      "source": [
        "### Tensor Attributes lets see where this goes"
      ],
      "metadata": {
        "id": "jUAkqGPHqGMX"
      }
    },
    {
      "cell_type": "code",
      "source": [
        "## we be going to multiply different datatypes like mr heisenberg\n",
        "\n",
        "\n",
        "jessie = torch.tensor([5,6,5],dtype=torch.int64)"
      ],
      "metadata": {
        "id": "7j2GuXTnqQcT"
      },
      "execution_count": 52,
      "outputs": []
    },
    {
      "cell_type": "code",
      "source": [
        "pinkman = torch.tensor([4,5,90], dtype=torch.float32)"
      ],
      "metadata": {
        "id": "flPYi0G8q4aM"
      },
      "execution_count": 58,
      "outputs": []
    },
    {
      "cell_type": "code",
      "source": [
        "x=jessie+pinkman"
      ],
      "metadata": {
        "id": "xHnS-deFrBdc"
      },
      "execution_count": 59,
      "outputs": []
    },
    {
      "cell_type": "code",
      "source": [
        "x"
      ],
      "metadata": {
        "colab": {
          "base_uri": "https://localhost:8080/"
        },
        "id": "Qk2sfe1KrZq7",
        "outputId": "1d5a8f6f-9ee4-40cb-8bee-19c9731a19f2"
      },
      "execution_count": 60,
      "outputs": [
        {
          "output_type": "execute_result",
          "data": {
            "text/plain": [
              "tensor([ 9., 11., 95.])"
            ]
          },
          "metadata": {},
          "execution_count": 60
        }
      ]
    },
    {
      "cell_type": "code",
      "source": [
        "y=jessie*pinkman"
      ],
      "metadata": {
        "id": "qJH6my81ragr"
      },
      "execution_count": 61,
      "outputs": []
    },
    {
      "cell_type": "code",
      "source": [
        "y\n"
      ],
      "metadata": {
        "colab": {
          "base_uri": "https://localhost:8080/"
        },
        "id": "ZaSBhTNOrfS0",
        "outputId": "234f0edc-4d57-412b-9b63-1445296da314"
      },
      "execution_count": 62,
      "outputs": [
        {
          "output_type": "execute_result",
          "data": {
            "text/plain": [
              "tensor([ 20.,  30., 450.])"
            ]
          },
          "metadata": {},
          "execution_count": 62
        }
      ]
    },
    {
      "cell_type": "code",
      "source": [
        "z=x*y/x+y"
      ],
      "metadata": {
        "id": "GMHeHulGrghb"
      },
      "execution_count": 67,
      "outputs": []
    },
    {
      "cell_type": "code",
      "source": [
        "z"
      ],
      "metadata": {
        "colab": {
          "base_uri": "https://localhost:8080/"
        },
        "id": "LZkK-AQJrmND",
        "outputId": "771a448e-765b-4bcc-f792-76eea3d3ad95"
      },
      "execution_count": 68,
      "outputs": [
        {
          "output_type": "execute_result",
          "data": {
            "text/plain": [
              "tensor([ 40.,  60., 900.])"
            ]
          },
          "metadata": {},
          "execution_count": 68
        }
      ]
    },
    {
      "cell_type": "code",
      "source": [
        "z1 = torch.rand(4,5,5)"
      ],
      "metadata": {
        "id": "8yvoz88jrnFT"
      },
      "execution_count": 69,
      "outputs": []
    },
    {
      "cell_type": "code",
      "source": [
        "z1.shape"
      ],
      "metadata": {
        "colab": {
          "base_uri": "https://localhost:8080/"
        },
        "id": "WdG2S4OAsGi0",
        "outputId": "2d64f63d-9822-4976-836d-cd33ca7e3dbf"
      },
      "execution_count": 71,
      "outputs": [
        {
          "output_type": "execute_result",
          "data": {
            "text/plain": [
              "torch.Size([4, 5, 5])"
            ]
          },
          "metadata": {},
          "execution_count": 71
        }
      ]
    },
    {
      "cell_type": "code",
      "source": [
        "z1.size"
      ],
      "metadata": {
        "colab": {
          "base_uri": "https://localhost:8080/"
        },
        "id": "cib0Sdb3sIiU",
        "outputId": "4812a319-9d84-4270-dd5b-4a4c70b0546e"
      },
      "execution_count": 72,
      "outputs": [
        {
          "output_type": "execute_result",
          "data": {
            "text/plain": [
              "<function Tensor.size>"
            ]
          },
          "metadata": {},
          "execution_count": 72
        }
      ]
    },
    {
      "cell_type": "code",
      "source": [
        "z1.device"
      ],
      "metadata": {
        "colab": {
          "base_uri": "https://localhost:8080/"
        },
        "id": "snLqrntatDOs",
        "outputId": "d2db6d35-e82a-4dfa-a3f7-fe6892960d95"
      },
      "execution_count": 73,
      "outputs": [
        {
          "output_type": "execute_result",
          "data": {
            "text/plain": [
              "device(type='cpu')"
            ]
          },
          "metadata": {},
          "execution_count": 73
        }
      ]
    },
    {
      "cell_type": "code",
      "source": [],
      "metadata": {
        "id": "A_CVwiMitE9j"
      },
      "execution_count": null,
      "outputs": []
    }
  ]
}